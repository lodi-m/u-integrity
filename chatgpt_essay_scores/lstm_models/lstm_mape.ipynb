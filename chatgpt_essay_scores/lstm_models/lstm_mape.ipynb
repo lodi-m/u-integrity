{
 "cells": [
  {
   "cell_type": "markdown",
   "metadata": {
    "id": "u6b7HhZScItR"
   },
   "source": [
    "### Setup"
   ]
  },
  {
   "cell_type": "code",
   "execution_count": 1,
   "metadata": {},
   "outputs": [
    {
     "name": "stdout",
     "output_type": "stream",
     "text": [
      "Requirement already satisfied: pandas in /opt/conda/lib/python3.10/site-packages (1.5.3)\n",
      "Requirement already satisfied: python-dateutil>=2.8.1 in /opt/conda/lib/python3.10/site-packages (from pandas) (2.8.2)\n",
      "Requirement already satisfied: pytz>=2020.1 in /opt/conda/lib/python3.10/site-packages (from pandas) (2022.7.1)\n",
      "Requirement already satisfied: numpy>=1.21.0 in /opt/conda/lib/python3.10/site-packages (from pandas) (1.23.5)\n",
      "Requirement already satisfied: six>=1.5 in /opt/conda/lib/python3.10/site-packages (from python-dateutil>=2.8.1->pandas) (1.16.0)\n",
      "Requirement already satisfied: numpy in /opt/conda/lib/python3.10/site-packages (1.23.5)\n",
      "Requirement already satisfied: gensim in /opt/conda/lib/python3.10/site-packages (4.3.1)\n",
      "Requirement already satisfied: numpy>=1.18.5 in /opt/conda/lib/python3.10/site-packages (from gensim) (1.23.5)\n",
      "Requirement already satisfied: smart-open>=1.8.1 in /opt/conda/lib/python3.10/site-packages (from gensim) (5.2.1)\n",
      "Requirement already satisfied: scipy>=1.7.0 in /opt/conda/lib/python3.10/site-packages (from gensim) (1.10.1)\n",
      "Requirement already satisfied: keras in /opt/conda/lib/python3.10/site-packages (2.10.0)\n",
      "Requirement already satisfied: scikit-learn in /opt/conda/lib/python3.10/site-packages (1.2.2)\n",
      "Requirement already satisfied: joblib>=1.1.1 in /opt/conda/lib/python3.10/site-packages (from scikit-learn) (1.2.0)\n",
      "Requirement already satisfied: scipy>=1.3.2 in /opt/conda/lib/python3.10/site-packages (from scikit-learn) (1.10.1)\n",
      "Requirement already satisfied: threadpoolctl>=2.0.0 in /opt/conda/lib/python3.10/site-packages (from scikit-learn) (3.1.0)\n",
      "Requirement already satisfied: numpy>=1.17.3 in /opt/conda/lib/python3.10/site-packages (from scikit-learn) (1.23.5)\n",
      "Requirement already satisfied: tensorflow in /opt/conda/lib/python3.10/site-packages (2.10.0)\n",
      "Requirement already satisfied: termcolor>=1.1.0 in /opt/conda/lib/python3.10/site-packages (from tensorflow) (2.2.0)\n",
      "Requirement already satisfied: absl-py>=1.0.0 in /opt/conda/lib/python3.10/site-packages (from tensorflow) (1.4.0)\n",
      "Requirement already satisfied: keras-preprocessing>=1.1.1 in /opt/conda/lib/python3.10/site-packages (from tensorflow) (1.1.2)\n",
      "Requirement already satisfied: astunparse>=1.6.0 in /opt/conda/lib/python3.10/site-packages (from tensorflow) (1.6.3)\n",
      "Requirement already satisfied: keras<2.11,>=2.10.0 in /opt/conda/lib/python3.10/site-packages (from tensorflow) (2.10.0)\n",
      "Requirement already satisfied: flatbuffers>=2.0 in /opt/conda/lib/python3.10/site-packages (from tensorflow) (23.1.21)\n",
      "Requirement already satisfied: protobuf>=3.9.2 in /opt/conda/lib/python3.10/site-packages (from tensorflow) (4.21.12)\n",
      "Requirement already satisfied: tensorflow-estimator<2.11,>=2.10.0 in /opt/conda/lib/python3.10/site-packages (from tensorflow) (2.10.0)\n",
      "Requirement already satisfied: google-pasta>=0.1.1 in /opt/conda/lib/python3.10/site-packages (from tensorflow) (0.2.0)\n",
      "Requirement already satisfied: gast<=0.4.0,>=0.2.1 in /opt/conda/lib/python3.10/site-packages (from tensorflow) (0.4.0)\n",
      "Requirement already satisfied: packaging in /opt/conda/lib/python3.10/site-packages (from tensorflow) (23.0)\n",
      "Requirement already satisfied: tensorboard<2.11,>=2.10 in /opt/conda/lib/python3.10/site-packages (from tensorflow) (2.10.1)\n",
      "Requirement already satisfied: typing-extensions>=3.6.6 in /opt/conda/lib/python3.10/site-packages (from tensorflow) (4.5.0)\n",
      "Requirement already satisfied: grpcio<2.0,>=1.24.3 in /opt/conda/lib/python3.10/site-packages (from tensorflow) (1.47.1)\n",
      "Requirement already satisfied: wrapt>=1.11.0 in /opt/conda/lib/python3.10/site-packages (from tensorflow) (1.15.0)\n",
      "Requirement already satisfied: numpy>=1.20 in /opt/conda/lib/python3.10/site-packages (from tensorflow) (1.23.5)\n",
      "Requirement already satisfied: h5py>=2.9.0 in /opt/conda/lib/python3.10/site-packages (from tensorflow) (3.8.0)\n",
      "Requirement already satisfied: setuptools in /opt/conda/lib/python3.10/site-packages (from tensorflow) (65.6.3)\n",
      "Requirement already satisfied: six>=1.12.0 in /opt/conda/lib/python3.10/site-packages (from tensorflow) (1.16.0)\n",
      "Requirement already satisfied: opt-einsum>=2.3.2 in /opt/conda/lib/python3.10/site-packages (from tensorflow) (3.3.0)\n",
      "Requirement already satisfied: wheel<1.0,>=0.23.0 in /opt/conda/lib/python3.10/site-packages (from astunparse>=1.6.0->tensorflow) (0.38.4)\n",
      "Requirement already satisfied: google-auth<3,>=1.6.3 in /opt/conda/lib/python3.10/site-packages (from tensorboard<2.11,>=2.10->tensorflow) (2.16.2)\n",
      "Requirement already satisfied: markdown>=2.6.8 in /opt/conda/lib/python3.10/site-packages (from tensorboard<2.11,>=2.10->tensorflow) (3.4.1)\n",
      "Requirement already satisfied: werkzeug>=1.0.1 in /opt/conda/lib/python3.10/site-packages (from tensorboard<2.11,>=2.10->tensorflow) (2.2.3)\n",
      "Requirement already satisfied: google-auth-oauthlib<0.5,>=0.4.1 in /opt/conda/lib/python3.10/site-packages (from tensorboard<2.11,>=2.10->tensorflow) (0.4.6)\n",
      "Requirement already satisfied: requests<3,>=2.21.0 in /opt/conda/lib/python3.10/site-packages (from tensorboard<2.11,>=2.10->tensorflow) (2.28.1)\n",
      "Requirement already satisfied: tensorboard-data-server<0.7.0,>=0.6.0 in /opt/conda/lib/python3.10/site-packages (from tensorboard<2.11,>=2.10->tensorflow) (0.6.1)\n",
      "Requirement already satisfied: tensorboard-plugin-wit>=1.6.0 in /opt/conda/lib/python3.10/site-packages (from tensorboard<2.11,>=2.10->tensorflow) (1.8.1)\n",
      "Requirement already satisfied: pyasn1-modules>=0.2.1 in /opt/conda/lib/python3.10/site-packages (from google-auth<3,>=1.6.3->tensorboard<2.11,>=2.10->tensorflow) (0.2.7)\n",
      "Requirement already satisfied: cachetools<6.0,>=2.0.0 in /opt/conda/lib/python3.10/site-packages (from google-auth<3,>=1.6.3->tensorboard<2.11,>=2.10->tensorflow) (5.3.0)\n",
      "Requirement already satisfied: rsa<5,>=3.1.4 in /opt/conda/lib/python3.10/site-packages (from google-auth<3,>=1.6.3->tensorboard<2.11,>=2.10->tensorflow) (4.9)\n",
      "Requirement already satisfied: requests-oauthlib>=0.7.0 in /opt/conda/lib/python3.10/site-packages (from google-auth-oauthlib<0.5,>=0.4.1->tensorboard<2.11,>=2.10->tensorflow) (1.3.1)\n",
      "Requirement already satisfied: urllib3<1.27,>=1.21.1 in /opt/conda/lib/python3.10/site-packages (from requests<3,>=2.21.0->tensorboard<2.11,>=2.10->tensorflow) (1.26.13)\n",
      "Requirement already satisfied: charset-normalizer<3,>=2 in /opt/conda/lib/python3.10/site-packages (from requests<3,>=2.21.0->tensorboard<2.11,>=2.10->tensorflow) (2.1.1)\n",
      "Requirement already satisfied: idna<4,>=2.5 in /opt/conda/lib/python3.10/site-packages (from requests<3,>=2.21.0->tensorboard<2.11,>=2.10->tensorflow) (3.4)\n",
      "Requirement already satisfied: certifi>=2017.4.17 in /opt/conda/lib/python3.10/site-packages (from requests<3,>=2.21.0->tensorboard<2.11,>=2.10->tensorflow) (2022.12.7)\n",
      "Requirement already satisfied: MarkupSafe>=2.1.1 in /opt/conda/lib/python3.10/site-packages (from werkzeug>=1.0.1->tensorboard<2.11,>=2.10->tensorflow) (2.1.2)\n",
      "Requirement already satisfied: pyasn1<0.5.0,>=0.4.6 in /opt/conda/lib/python3.10/site-packages (from pyasn1-modules>=0.2.1->google-auth<3,>=1.6.3->tensorboard<2.11,>=2.10->tensorflow) (0.4.8)\n",
      "Requirement already satisfied: oauthlib>=3.0.0 in /opt/conda/lib/python3.10/site-packages (from requests-oauthlib>=0.7.0->google-auth-oauthlib<0.5,>=0.4.1->tensorboard<2.11,>=2.10->tensorflow) (3.2.2)\n"
     ]
    }
   ],
   "source": [
    "!pip install pandas\n",
    "!pip install numpy\n",
    "!pip install gensim\n",
    "!pip install keras\n",
    "!pip install scikit-learn\n",
    "!pip install tensorflow"
   ]
  },
  {
   "cell_type": "code",
   "execution_count": 34,
   "metadata": {
    "id": "FNvbuG_-Zcfr"
   },
   "outputs": [],
   "source": [
    "import pandas as pd\n",
    "import numpy as np\n",
    "import gensim\n",
    "from gensim.models import Word2Vec\n",
    "from keras.layers import LSTM, Dense, Dropout\n",
    "from keras.models import Sequential\n",
    "from sklearn.model_selection import train_test_split\n",
    "import tensorflow as tf\n",
    "from sklearn.metrics import mean_absolute_error, mean_squared_error"
   ]
  },
  {
   "cell_type": "markdown",
   "metadata": {
    "id": "FTYIbEGXcKbi"
   },
   "source": [
    "### Data"
   ]
  },
  {
   "cell_type": "code",
   "execution_count": 35,
   "metadata": {
    "colab": {
     "base_uri": "https://localhost:8080/",
     "height": 206
    },
    "id": "VGPNdIBXcK-5",
    "outputId": "6cb8d6be-7094-4d47-b6d1-f632be131bdb"
   },
   "outputs": [
    {
     "data": {
      "text/html": [
       "<div>\n",
       "<style scoped>\n",
       "    .dataframe tbody tr th:only-of-type {\n",
       "        vertical-align: middle;\n",
       "    }\n",
       "\n",
       "    .dataframe tbody tr th {\n",
       "        vertical-align: top;\n",
       "    }\n",
       "\n",
       "    .dataframe thead th {\n",
       "        text-align: right;\n",
       "    }\n",
       "</style>\n",
       "<table border=\"1\" class=\"dataframe\">\n",
       "  <thead>\n",
       "    <tr style=\"text-align: right;\">\n",
       "      <th></th>\n",
       "      <th>Essay_id</th>\n",
       "      <th>Essay_set_id</th>\n",
       "      <th>Essay</th>\n",
       "      <th>rater1_domain1</th>\n",
       "      <th>rater2_domain1</th>\n",
       "      <th>domain1_score</th>\n",
       "      <th>normalized_score</th>\n",
       "    </tr>\n",
       "  </thead>\n",
       "  <tbody>\n",
       "    <tr>\n",
       "      <th>0</th>\n",
       "      <td>1</td>\n",
       "      <td>1</td>\n",
       "      <td>dear local newspap think effect comput peopl g...</td>\n",
       "      <td>4.0</td>\n",
       "      <td>4.0</td>\n",
       "      <td>8.0</td>\n",
       "      <td>0.6</td>\n",
       "    </tr>\n",
       "    <tr>\n",
       "      <th>1</th>\n",
       "      <td>2</td>\n",
       "      <td>1</td>\n",
       "      <td>dear believ use comput benefit us mani way lik...</td>\n",
       "      <td>5.0</td>\n",
       "      <td>4.0</td>\n",
       "      <td>9.0</td>\n",
       "      <td>0.7</td>\n",
       "    </tr>\n",
       "    <tr>\n",
       "      <th>2</th>\n",
       "      <td>3</td>\n",
       "      <td>1</td>\n",
       "      <td>dear peopl use comput everyon agre benefit soc...</td>\n",
       "      <td>4.0</td>\n",
       "      <td>3.0</td>\n",
       "      <td>7.0</td>\n",
       "      <td>0.5</td>\n",
       "    </tr>\n",
       "    <tr>\n",
       "      <th>3</th>\n",
       "      <td>4</td>\n",
       "      <td>1</td>\n",
       "      <td>dear local newspap found mani expert say compu...</td>\n",
       "      <td>5.0</td>\n",
       "      <td>5.0</td>\n",
       "      <td>10.0</td>\n",
       "      <td>0.8</td>\n",
       "    </tr>\n",
       "    <tr>\n",
       "      <th>4</th>\n",
       "      <td>5</td>\n",
       "      <td>1</td>\n",
       "      <td>dear know comput posit effect people. comput c...</td>\n",
       "      <td>4.0</td>\n",
       "      <td>4.0</td>\n",
       "      <td>8.0</td>\n",
       "      <td>0.6</td>\n",
       "    </tr>\n",
       "  </tbody>\n",
       "</table>\n",
       "</div>"
      ],
      "text/plain": [
       "   Essay_id  Essay_set_id                                              Essay  \\\n",
       "0         1             1  dear local newspap think effect comput peopl g...   \n",
       "1         2             1  dear believ use comput benefit us mani way lik...   \n",
       "2         3             1  dear peopl use comput everyon agre benefit soc...   \n",
       "3         4             1  dear local newspap found mani expert say compu...   \n",
       "4         5             1  dear know comput posit effect people. comput c...   \n",
       "\n",
       "   rater1_domain1  rater2_domain1  domain1_score  normalized_score  \n",
       "0             4.0             4.0            8.0               0.6  \n",
       "1             5.0             4.0            9.0               0.7  \n",
       "2             4.0             3.0            7.0               0.5  \n",
       "3             5.0             5.0           10.0               0.8  \n",
       "4             4.0             4.0            8.0               0.6  "
      ]
     },
     "execution_count": 35,
     "metadata": {},
     "output_type": "execute_result"
    }
   ],
   "source": [
    "kaggle_data = pd.read_csv(\"https://raw.githubusercontent.com/lodi-m/u-integrity/main/data/normalized_scores/normalized_kaggle_essay_set.csv\")\n",
    "kaggle_data.head(5)"
   ]
  },
  {
   "cell_type": "markdown",
   "metadata": {
    "id": "c070glVvchVW"
   },
   "source": [
    "### LSTM model"
   ]
  },
  {
   "cell_type": "code",
   "execution_count": 88,
   "metadata": {
    "id": "TlQ-yaizci7n"
   },
   "outputs": [],
   "source": [
    "from tensorflow.keras.optimizers import RMSprop\n",
    "def get_lstm():\n",
    "    # initializing an empty neural network model layer by layer in a sequential manner\n",
    "    model = Sequential()\n",
    "    \n",
    "    model.add(LSTM(200, dropout=0.4, recurrent_dropout=0.4, input_shape=[1, 200], return_sequences=True))\n",
    "    model.add(LSTM(100, dropout=0.4, recurrent_dropout=0.4, return_sequences=True))\n",
    "    model.add(LSTM(50, dropout=0.4, recurrent_dropout=0.4))\n",
    "    model.add(Dense(1, activation='relu'))\n",
    "\n",
    "#     model.compile(loss='mean_squared_error', optimizer='rmsprop', metrics=['mae'])\n",
    "    model.compile(optimizer=RMSprop(learning_rate = 0.0009), loss=tf.keras.losses.MeanAbsolutePercentageError(), metrics=['mae'])\n",
    "    model.summary()\n",
    "\n",
    "    return model"
   ]
  },
  {
   "cell_type": "markdown",
   "metadata": {
    "id": "ZWwRzRpAd6xY"
   },
   "source": [
    "### Word2Vec"
   ]
  },
  {
   "cell_type": "code",
   "execution_count": 37,
   "metadata": {
    "id": "-vDHBO7OPSb-"
   },
   "outputs": [],
   "source": [
    "def get_w2v(df, min_word_count, num_features, num_workers, max_distance, downsample):\n",
    "  w2v = Word2Vec(workers=num_workers, vector_size=num_features, min_count=min_word_count, window=max_distance, sample=downsample)\n",
    "\n",
    "  w2v.build_vocab(df, progress_per=progress_val)\n",
    "  w2v.train(df, total_examples=w2v.corpus_count, epochs=w2v.epochs)\n",
    "\n",
    "  return w2v"
   ]
  },
  {
   "cell_type": "markdown",
   "metadata": {
    "id": "q-tCRkPQFkSw"
   },
   "source": [
    "### Word embeddings"
   ]
  },
  {
   "cell_type": "code",
   "execution_count": 38,
   "metadata": {
    "id": "_UoS6bdFswbZ"
   },
   "outputs": [],
   "source": [
    "def make_feature_vectors(words, model, num_features):\n",
    "    feature_vector = np.zeros((num_features, ))\n",
    "    index_keys = set(model.wv.index_to_key)\n",
    "    \n",
    "    for word in words:\n",
    "      if word in index_keys:\n",
    "        feature_vector = np.add(feature_vector, model.wv[word])\n",
    "    return feature_vector"
   ]
  },
  {
   "cell_type": "code",
   "execution_count": 39,
   "metadata": {
    "id": "mxpOCjb1tFUo"
   },
   "outputs": [],
   "source": [
    "def avg_feature_vectors(essays, model, num_features):\n",
    "    final_essay_vector = np.zeros((len(essays), num_features))\n",
    "    \n",
    "    for i in range(len(essays)):\n",
    "        final_essay_vector[i] = make_feature_vectors(essays[i], model, num_features)\n",
    "    return final_essay_vector"
   ]
  },
  {
   "cell_type": "markdown",
   "metadata": {
    "id": "149i3K9KFmr0"
   },
   "source": [
    "### Parameters"
   ]
  },
  {
   "cell_type": "code",
   "execution_count": 40,
   "metadata": {
    "id": "lxMYQHlApDE5"
   },
   "outputs": [],
   "source": [
    "X = kaggle_data[\"Essay\"]\n",
    "y = kaggle_data[\"normalized_score\"]"
   ]
  },
  {
   "cell_type": "code",
   "execution_count": 41,
   "metadata": {
    "id": "rN7gQ6EaQTwM"
   },
   "outputs": [],
   "source": [
    "min_word_count = 8\n",
    "num_features = 200\n",
    "num_workers = 4\n",
    "max_distance = 10\n",
    "downsampling = 1e-3\n",
    "progress_val = 2000"
   ]
  },
  {
   "cell_type": "markdown",
   "metadata": {
    "id": "EQWYijLkd9EM"
   },
   "source": [
    "### Training LSTM"
   ]
  },
  {
   "cell_type": "code",
   "execution_count": 42,
   "metadata": {
    "id": "4NyVH7VEdtwJ"
   },
   "outputs": [],
   "source": [
    "# mse_results = []\n",
    "mae_results = []\n",
    "mpe_results = []"
   ]
  },
  {
   "cell_type": "code",
   "execution_count": 43,
   "metadata": {
    "colab": {
     "base_uri": "https://localhost:8080/"
    },
    "id": "kLr_65sYo-mR",
    "outputId": "1afb6400-b09e-4667-bdde-8040b1e4390b"
   },
   "outputs": [],
   "source": [
    "w2v = get_w2v(X, min_word_count, num_features, num_workers, max_distance, downsampling)\n",
    "X_train, X_test, y_train, y_test = train_test_split(X, y, test_size=0.3)\n",
    "\n",
    "clean_train_essays = X_train.to_list()\n",
    "clean_test_essays = X_test.to_list()\n",
    "\n",
    "train_vectors = avg_feature_vectors(clean_train_essays, w2v, num_features)\n",
    "test_vectors = avg_feature_vectors(clean_test_essays, w2v, num_features)\n",
    "\n",
    "train_vectors = np.array(train_vectors)\n",
    "test_vectors = np.array(test_vectors)\n",
    "  "
   ]
  },
  {
   "cell_type": "code",
   "execution_count": 44,
   "metadata": {},
   "outputs": [],
   "source": [
    "from sklearn.preprocessing import MinMaxScaler\n",
    "# Create scaler object\n",
    "scaler = MinMaxScaler()\n",
    "\n",
    "# Fit scaler to training data and transform it\n",
    "train_vectors_scaled = scaler.fit_transform(train_vectors)\n",
    "test_vectors_scaled = scaler.transform(test_vectors)\n",
    "  \n",
    "train_vectors_scaled = np.reshape(train_vectors_scaled, (train_vectors.shape[0], 1, train_vectors.shape[1]))\n",
    "test_vectors_scaled = np.reshape(test_vectors_scaled, (test_vectors.shape[0], 1, test_vectors.shape[1]))"
   ]
  },
  {
   "cell_type": "code",
   "execution_count": 89,
   "metadata": {},
   "outputs": [
    {
     "name": "stdout",
     "output_type": "stream",
     "text": [
      "Model: \"sequential_15\"\n",
      "_________________________________________________________________\n",
      " Layer (type)                Output Shape              Param #   \n",
      "=================================================================\n",
      " lstm_39 (LSTM)              (None, 1, 200)            320800    \n",
      "                                                                 \n",
      " lstm_40 (LSTM)              (None, 1, 100)            120400    \n",
      "                                                                 \n",
      " lstm_41 (LSTM)              (None, 50)                30200     \n",
      "                                                                 \n",
      " dense_15 (Dense)            (None, 1)                 51        \n",
      "                                                                 \n",
      "=================================================================\n",
      "Total params: 471,451\n",
      "Trainable params: 471,451\n",
      "Non-trainable params: 0\n",
      "_________________________________________________________________\n",
      "Epoch 1/50\n",
      "129/129 [==============================] - 10s 15ms/step - loss: 675136.1250 - mae: 0.4857\n",
      "Epoch 2/50\n",
      "129/129 [==============================] - 2s 15ms/step - loss: 99.4631 - mae: 0.6185\n",
      "Epoch 3/50\n",
      "129/129 [==============================] - 2s 13ms/step - loss: 194194.3594 - mae: 0.5973\n",
      "Epoch 4/50\n",
      "129/129 [==============================] - 2s 14ms/step - loss: 7742.2163 - mae: 0.6063\n",
      "Epoch 5/50\n",
      "129/129 [==============================] - 2s 13ms/step - loss: 134561.7344 - mae: 0.5840\n",
      "Epoch 6/50\n",
      "129/129 [==============================] - 2s 13ms/step - loss: 7274.8306 - mae: 0.6176\n",
      "Epoch 7/50\n",
      "129/129 [==============================] - 2s 13ms/step - loss: 256514.8125 - mae: 0.5296\n",
      "Epoch 8/50\n",
      "129/129 [==============================] - 2s 13ms/step - loss: 54540.1641 - mae: 0.5608\n",
      "Epoch 9/50\n",
      "129/129 [==============================] - 2s 13ms/step - loss: 13186.6445 - mae: 0.6022\n",
      "Epoch 10/50\n",
      "129/129 [==============================] - 2s 14ms/step - loss: 91764.3281 - mae: 0.5587\n",
      "Epoch 11/50\n",
      "129/129 [==============================] - 2s 13ms/step - loss: 1496.9781 - mae: 0.6154\n",
      "Epoch 12/50\n",
      "129/129 [==============================] - 2s 13ms/step - loss: 225426.5781 - mae: 0.5119\n",
      "Epoch 13/50\n",
      "129/129 [==============================] - 2s 14ms/step - loss: 13683.1846 - mae: 0.5943\n",
      "Epoch 14/50\n",
      "129/129 [==============================] - 2s 13ms/step - loss: 238163.2500 - mae: 0.5375\n",
      "Epoch 15/50\n",
      "129/129 [==============================] - 2s 13ms/step - loss: 86450.3828 - mae: 0.5363\n",
      "Epoch 16/50\n",
      "129/129 [==============================] - 2s 14ms/step - loss: 48998.3008 - mae: 0.5564\n",
      "Epoch 17/50\n",
      "129/129 [==============================] - 2s 13ms/step - loss: 144910.8281 - mae: 0.5444\n",
      "Epoch 18/50\n",
      "129/129 [==============================] - 2s 13ms/step - loss: 15569.8496 - mae: 0.5595\n",
      "Epoch 19/50\n",
      "129/129 [==============================] - 2s 13ms/step - loss: 127870.7109 - mae: 0.5976\n",
      "Epoch 20/50\n",
      "129/129 [==============================] - 2s 13ms/step - loss: 75739.5625 - mae: 0.5907\n",
      "Epoch 21/50\n",
      "129/129 [==============================] - 2s 12ms/step - loss: 100540.4453 - mae: 0.5692\n",
      "Epoch 22/50\n",
      "129/129 [==============================] - 2s 13ms/step - loss: 92.0310 - mae: 0.5713\n",
      "Epoch 23/50\n",
      "129/129 [==============================] - 2s 13ms/step - loss: 363846.0625 - mae: 0.4853\n",
      "Epoch 24/50\n",
      "129/129 [==============================] - 2s 14ms/step - loss: 44008.7422 - mae: 0.5572\n",
      "Epoch 25/50\n",
      "129/129 [==============================] - 2s 13ms/step - loss: 138932.9688 - mae: 0.5530\n",
      "Epoch 26/50\n",
      "129/129 [==============================] - 2s 13ms/step - loss: 26368.4492 - mae: 0.5654\n",
      "Epoch 27/50\n",
      "129/129 [==============================] - 2s 13ms/step - loss: 64275.2773 - mae: 0.5198\n",
      "Epoch 28/50\n",
      "129/129 [==============================] - 2s 13ms/step - loss: 43256.3203 - mae: 0.5898\n",
      "Epoch 29/50\n",
      "129/129 [==============================] - 2s 14ms/step - loss: 85896.4375 - mae: 0.5325\n",
      "Epoch 30/50\n",
      "129/129 [==============================] - 2s 14ms/step - loss: 164855.8594 - mae: 0.5547\n",
      "Epoch 31/50\n",
      "129/129 [==============================] - 2s 13ms/step - loss: 133868.0312 - mae: 0.5481\n",
      "Epoch 32/50\n",
      "129/129 [==============================] - 2s 13ms/step - loss: 2003.9430 - mae: 0.5785\n",
      "Epoch 33/50\n",
      "129/129 [==============================] - 2s 13ms/step - loss: 118007.1797 - mae: 0.5061\n",
      "Epoch 34/50\n",
      "129/129 [==============================] - 2s 13ms/step - loss: 9847.0762 - mae: 0.5781\n",
      "Epoch 35/50\n",
      "129/129 [==============================] - 2s 13ms/step - loss: 22358.6855 - mae: 0.5865\n",
      "Epoch 36/50\n",
      "129/129 [==============================] - 2s 13ms/step - loss: 87386.4609 - mae: 0.5511\n",
      "Epoch 37/50\n",
      "129/129 [==============================] - 2s 12ms/step - loss: 146284.3125 - mae: 0.5404\n",
      "Epoch 38/50\n",
      "129/129 [==============================] - 2s 13ms/step - loss: 2899.6438 - mae: 0.6123\n",
      "Epoch 39/50\n",
      "129/129 [==============================] - 2s 14ms/step - loss: 270855.2500 - mae: 0.5329\n",
      "Epoch 40/50\n",
      "129/129 [==============================] - 2s 14ms/step - loss: 98.9301 - mae: 0.6151\n",
      "Epoch 41/50\n",
      "129/129 [==============================] - 2s 13ms/step - loss: 66711.9609 - mae: 0.5984\n",
      "Epoch 42/50\n",
      "129/129 [==============================] - 2s 13ms/step - loss: 133369.0938 - mae: 0.5874\n",
      "Epoch 43/50\n",
      "129/129 [==============================] - 2s 13ms/step - loss: 99.3710 - mae: 0.6179\n",
      "Epoch 44/50\n",
      "129/129 [==============================] - 2s 13ms/step - loss: 25657.8477 - mae: 0.6146\n",
      "Epoch 45/50\n",
      "129/129 [==============================] - 2s 13ms/step - loss: 13612.7285 - mae: 0.6117\n",
      "Epoch 46/50\n",
      "129/129 [==============================] - 2s 13ms/step - loss: 15989.2383 - mae: 0.6048\n",
      "Epoch 47/50\n",
      "129/129 [==============================] - 2s 13ms/step - loss: 21625.6836 - mae: 0.6086\n",
      "Epoch 48/50\n",
      "129/129 [==============================] - 2s 13ms/step - loss: 8549.4062 - mae: 0.6164\n",
      "Epoch 49/50\n",
      "129/129 [==============================] - 2s 13ms/step - loss: 99.4650 - mae: 0.6185\n",
      "Epoch 50/50\n",
      "129/129 [==============================] - 2s 12ms/step - loss: 286067.4375 - mae: 0.5472\n",
      "56/56 [==============================] - 1s 4ms/step\n"
     ]
    }
   ],
   "source": [
    "# fit modeland predict\n",
    "lstm_model = get_lstm()\n",
    "lstm_model.fit(train_vectors_scaled, y_train, batch_size=32, epochs=50)\n",
    "\n",
    "y_pred = lstm_model.predict(test_vectors_scaled)"
   ]
  },
  {
   "cell_type": "code",
   "execution_count": 90,
   "metadata": {},
   "outputs": [],
   "source": [
    "mape = tf.keras.losses.MeanAbsolutePercentageError()\n",
    "# mse = mean_squared_error(y_test, y_pred)\n",
    "mpe = mape(y_test, y_pred).numpy()\n",
    "mae = mean_absolute_error(y_test, y_pred)\n",
    "\n",
    "# mse_results.append(mse)\n",
    "mpe_results.append(mpe)\n",
    "mae_results.append(mae)"
   ]
  },
  {
   "cell_type": "code",
   "execution_count": 91,
   "metadata": {
    "colab": {
     "base_uri": "https://localhost:8080/"
    },
    "id": "ma9XYpoTpXe7",
    "outputId": "22ed536c-c339-42da-c4c1-62789f2cc7af"
   },
   "outputs": [
    {
     "data": {
      "text/plain": [
       "57146.316"
      ]
     },
     "execution_count": 91,
     "metadata": {},
     "output_type": "execute_result"
    }
   ],
   "source": [
    "np.around(np.array(mpe_results).mean(), decimals=4)"
   ]
  },
  {
   "cell_type": "code",
   "execution_count": 92,
   "metadata": {
    "colab": {
     "base_uri": "https://localhost:8080/"
    },
    "id": "_ruydgJ99RFs",
    "outputId": "cdd1ad86-0729-4489-f414-bfa2ae386af3"
   },
   "outputs": [
    {
     "data": {
      "text/plain": [
       "0.5994"
      ]
     },
     "execution_count": 92,
     "metadata": {},
     "output_type": "execute_result"
    }
   ],
   "source": [
    "np.around(np.array(mae_results).mean(), decimals=4)"
   ]
  },
  {
   "cell_type": "code",
   "execution_count": 93,
   "metadata": {},
   "outputs": [
    {
     "data": {
      "image/png": "[encoded data removed]",
      "text/plain": [
       "<Figure size 640x480 with 1 Axes>"
      ]
     },
     "metadata": {},
     "output_type": "display_data"
    }
   ],
   "source": [
    "import matplotlib.pyplot as plt\n",
    "\n",
    "# Create box plot of predicted and true values\n",
    "data = [y_pred.flatten(), y_test.values.flatten()]\n",
    "plt.boxplot(data, labels=['Predicted', 'True'])\n",
    "plt.show()"
   ]
  }
 ],
 "metadata": {
  "colab": {
   "provenance": []
  },
  "kernelspec": {
   "display_name": "Python 3 (ipykernel)",
   "language": "python",
   "name": "python3"
  },
  "language_info": {
   "codemirror_mode": {
    "name": "ipython",
    "version": 3
   },
   "file_extension": ".py",
   "mimetype": "text/x-python",
   "name": "python",
   "nbconvert_exporter": "python",
   "pygments_lexer": "ipython3",
   "version": "3.10.8"
  }
 },
 "nbformat": 4,
 "nbformat_minor": 1
}
