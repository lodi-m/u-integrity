{
  "nbformat": 4,
  "nbformat_minor": 0,
  "metadata": {
    "colab": {
      "provenance": []
    },
    "kernelspec": {
      "name": "python3",
      "display_name": "Python 3"
    },
    "language_info": {
      "name": "python"
    }
  },
  "cells": [
    {
      "cell_type": "markdown",
      "source": [
        "### Setup"
      ],
      "metadata": {
        "id": "u6b7HhZScItR"
      }
    },
    {
      "cell_type": "code",
      "execution_count": 97,
      "metadata": {
        "id": "FNvbuG_-Zcfr"
      },
      "outputs": [],
      "source": [
        "import pandas as pd\n",
        "import numpy as np\n",
        "import gensim\n",
        "from gensim.models import Word2Vec\n",
        "from keras.layers import LSTM, Dense, Dropout\n",
        "from keras.models import Sequential\n",
        "from sklearn.model_selection import KFold\n",
        "from sklearn.metrics import mean_squared_error, mean_absolute_error"
      ]
    },
    {
      "cell_type": "markdown",
      "source": [
        "### Data"
      ],
      "metadata": {
        "id": "FTYIbEGXcKbi"
      }
    },
    {
      "cell_type": "code",
      "source": [
        "kaggle_data = pd.read_csv(\"https://raw.githubusercontent.com/lodi-m/u-integrity/main/data/normalized_scores/normalized_kaggle_essay_set.csv\")\n",
        "kaggle_data.head(5)"
      ],
      "metadata": {
        "colab": {
          "base_uri": "https://localhost:8080/",
          "height": 206
        },
        "id": "VGPNdIBXcK-5",
        "outputId": "be6e0099-4977-411e-c59e-c53dadd19bb8"
      },
      "execution_count": 5,
      "outputs": [
        {
          "output_type": "execute_result",
          "data": {
            "text/plain": [
              "   Essay_id  Essay_set_id                                              Essay  \\\n",
              "0         1             1  dear local newspap think effect comput peopl g...   \n",
              "1         2             1  dear believ use comput benefit us mani way lik...   \n",
              "2         3             1  dear peopl use comput everyon agre benefit soc...   \n",
              "3         4             1  dear local newspap found mani expert say compu...   \n",
              "4         5             1  dear know comput posit effect people. comput c...   \n",
              "\n",
              "   rater1_domain1  rater2_domain1  domain1_score  normalized_score  \n",
              "0             4.0             4.0            8.0               0.6  \n",
              "1             5.0             4.0            9.0               0.7  \n",
              "2             4.0             3.0            7.0               0.5  \n",
              "3             5.0             5.0           10.0               0.8  \n",
              "4             4.0             4.0            8.0               0.6  "
            ],
            "text/html": [
              "\n",
              "  <div id=\"df-940c3e84-b2f0-4231-8ef5-c631308428fc\">\n",
              "    <div class=\"colab-df-container\">\n",
              "      <div>\n",
              "<style scoped>\n",
              "    .dataframe tbody tr th:only-of-type {\n",
              "        vertical-align: middle;\n",
              "    }\n",
              "\n",
              "    .dataframe tbody tr th {\n",
              "        vertical-align: top;\n",
              "    }\n",
              "\n",
              "    .dataframe thead th {\n",
              "        text-align: right;\n",
              "    }\n",
              "</style>\n",
              "<table border=\"1\" class=\"dataframe\">\n",
              "  <thead>\n",
              "    <tr style=\"text-align: right;\">\n",
              "      <th></th>\n",
              "      <th>Essay_id</th>\n",
              "      <th>Essay_set_id</th>\n",
              "      <th>Essay</th>\n",
              "      <th>rater1_domain1</th>\n",
              "      <th>rater2_domain1</th>\n",
              "      <th>domain1_score</th>\n",
              "      <th>normalized_score</th>\n",
              "    </tr>\n",
              "  </thead>\n",
              "  <tbody>\n",
              "    <tr>\n",
              "      <th>0</th>\n",
              "      <td>1</td>\n",
              "      <td>1</td>\n",
              "      <td>dear local newspap think effect comput peopl g...</td>\n",
              "      <td>4.0</td>\n",
              "      <td>4.0</td>\n",
              "      <td>8.0</td>\n",
              "      <td>0.6</td>\n",
              "    </tr>\n",
              "    <tr>\n",
              "      <th>1</th>\n",
              "      <td>2</td>\n",
              "      <td>1</td>\n",
              "      <td>dear believ use comput benefit us mani way lik...</td>\n",
              "      <td>5.0</td>\n",
              "      <td>4.0</td>\n",
              "      <td>9.0</td>\n",
              "      <td>0.7</td>\n",
              "    </tr>\n",
              "    <tr>\n",
              "      <th>2</th>\n",
              "      <td>3</td>\n",
              "      <td>1</td>\n",
              "      <td>dear peopl use comput everyon agre benefit soc...</td>\n",
              "      <td>4.0</td>\n",
              "      <td>3.0</td>\n",
              "      <td>7.0</td>\n",
              "      <td>0.5</td>\n",
              "    </tr>\n",
              "    <tr>\n",
              "      <th>3</th>\n",
              "      <td>4</td>\n",
              "      <td>1</td>\n",
              "      <td>dear local newspap found mani expert say compu...</td>\n",
              "      <td>5.0</td>\n",
              "      <td>5.0</td>\n",
              "      <td>10.0</td>\n",
              "      <td>0.8</td>\n",
              "    </tr>\n",
              "    <tr>\n",
              "      <th>4</th>\n",
              "      <td>5</td>\n",
              "      <td>1</td>\n",
              "      <td>dear know comput posit effect people. comput c...</td>\n",
              "      <td>4.0</td>\n",
              "      <td>4.0</td>\n",
              "      <td>8.0</td>\n",
              "      <td>0.6</td>\n",
              "    </tr>\n",
              "  </tbody>\n",
              "</table>\n",
              "</div>\n",
              "      <button class=\"colab-df-convert\" onclick=\"convertToInteractive('df-940c3e84-b2f0-4231-8ef5-c631308428fc')\"\n",
              "              title=\"Convert this dataframe to an interactive table.\"\n",
              "              style=\"display:none;\">\n",
              "        \n",
              "  <svg xmlns=\"http://www.w3.org/2000/svg\" height=\"24px\"viewBox=\"0 0 24 24\"\n",
              "       width=\"24px\">\n",
              "    <path d=\"M0 0h24v24H0V0z\" fill=\"none\"/>\n",
              "    <path d=\"M18.56 5.44l.94 2.06.94-2.06 2.06-.94-2.06-.94-.94-2.06-.94 2.06-2.06.94zm-11 1L8.5 8.5l.94-2.06 2.06-.94-2.06-.94L8.5 2.5l-.94 2.06-2.06.94zm10 10l.94 2.06.94-2.06 2.06-.94-2.06-.94-.94-2.06-.94 2.06-2.06.94z\"/><path d=\"M17.41 7.96l-1.37-1.37c-.4-.4-.92-.59-1.43-.59-.52 0-1.04.2-1.43.59L10.3 9.45l-7.72 7.72c-.78.78-.78 2.05 0 2.83L4 21.41c.39.39.9.59 1.41.59.51 0 1.02-.2 1.41-.59l7.78-7.78 2.81-2.81c.8-.78.8-2.07 0-2.86zM5.41 20L4 18.59l7.72-7.72 1.47 1.35L5.41 20z\"/>\n",
              "  </svg>\n",
              "      </button>\n",
              "      \n",
              "  <style>\n",
              "    .colab-df-container {\n",
              "      display:flex;\n",
              "      flex-wrap:wrap;\n",
              "      gap: 12px;\n",
              "    }\n",
              "\n",
              "    .colab-df-convert {\n",
              "      background-color: #E8F0FE;\n",
              "      border: none;\n",
              "      border-radius: 50%;\n",
              "      cursor: pointer;\n",
              "      display: none;\n",
              "      fill: #1967D2;\n",
              "      height: 32px;\n",
              "      padding: 0 0 0 0;\n",
              "      width: 32px;\n",
              "    }\n",
              "\n",
              "    .colab-df-convert:hover {\n",
              "      background-color: #E2EBFA;\n",
              "      box-shadow: 0px 1px 2px rgba(60, 64, 67, 0.3), 0px 1px 3px 1px rgba(60, 64, 67, 0.15);\n",
              "      fill: #174EA6;\n",
              "    }\n",
              "\n",
              "    [theme=dark] .colab-df-convert {\n",
              "      background-color: #3B4455;\n",
              "      fill: #D2E3FC;\n",
              "    }\n",
              "\n",
              "    [theme=dark] .colab-df-convert:hover {\n",
              "      background-color: #434B5C;\n",
              "      box-shadow: 0px 1px 3px 1px rgba(0, 0, 0, 0.15);\n",
              "      filter: drop-shadow(0px 1px 2px rgba(0, 0, 0, 0.3));\n",
              "      fill: #FFFFFF;\n",
              "    }\n",
              "  </style>\n",
              "\n",
              "      <script>\n",
              "        const buttonEl =\n",
              "          document.querySelector('#df-940c3e84-b2f0-4231-8ef5-c631308428fc button.colab-df-convert');\n",
              "        buttonEl.style.display =\n",
              "          google.colab.kernel.accessAllowed ? 'block' : 'none';\n",
              "\n",
              "        async function convertToInteractive(key) {\n",
              "          const element = document.querySelector('#df-940c3e84-b2f0-4231-8ef5-c631308428fc');\n",
              "          const dataTable =\n",
              "            await google.colab.kernel.invokeFunction('convertToInteractive',\n",
              "                                                     [key], {});\n",
              "          if (!dataTable) return;\n",
              "\n",
              "          const docLinkHtml = 'Like what you see? Visit the ' +\n",
              "            '<a target=\"_blank\" href=https://colab.research.google.com/notebooks/data_table.ipynb>data table notebook</a>'\n",
              "            + ' to learn more about interactive tables.';\n",
              "          element.innerHTML = '';\n",
              "          dataTable['output_type'] = 'display_data';\n",
              "          await google.colab.output.renderOutput(dataTable, element);\n",
              "          const docLink = document.createElement('div');\n",
              "          docLink.innerHTML = docLinkHtml;\n",
              "          element.appendChild(docLink);\n",
              "        }\n",
              "      </script>\n",
              "    </div>\n",
              "  </div>\n",
              "  "
            ]
          },
          "metadata": {},
          "execution_count": 5
        }
      ]
    },
    {
      "cell_type": "markdown",
      "source": [
        "### LSTM model"
      ],
      "metadata": {
        "id": "c070glVvchVW"
      }
    },
    {
      "cell_type": "code",
      "source": [
        "def get_lstm():\n",
        "    model = Sequential()\n",
        "    model.add(LSTM(200, dropout=0.4, recurrent_dropout=0.4, input_shape=[1, 200], return_sequences=True))\n",
        "    # model.add(LSTM(100, recurrent_dropout=0.4, input_shape=[1, 300]))\n",
        "    model.add(LSTM(100, recurrent_dropout=0.2))\n",
        "    model.add(Dropout(0.75))\n",
        "    model.add(Dense(1, activation='relu'))\n",
        "\n",
        "    model.compile(loss='mean_squared_error', optimizer='rmsprop', metrics=['mae'])\n",
        "    model.summary()\n",
        "\n",
        "    return model"
      ],
      "metadata": {
        "id": "TlQ-yaizci7n"
      },
      "execution_count": 120,
      "outputs": []
    },
    {
      "cell_type": "markdown",
      "source": [
        "### Word2Vec"
      ],
      "metadata": {
        "id": "ZWwRzRpAd6xY"
      }
    },
    {
      "cell_type": "code",
      "source": [
        "def get_w2v(df, min_word_count, num_features, num_workers, max_distance, downsample):\n",
        "  w2v = Word2Vec(workers=num_workers, vector_size=num_features, min_count=min_word_count, window=max_distance, sample=downsample)\n",
        "\n",
        "  w2v.build_vocab(df, progress_per=progress_val)\n",
        "  w2v.train(df, total_examples=w2v.corpus_count, epochs=w2v.epochs)\n",
        "\n",
        "  return w2v"
      ],
      "metadata": {
        "id": "-vDHBO7OPSb-"
      },
      "execution_count": 73,
      "outputs": []
    },
    {
      "cell_type": "markdown",
      "source": [
        "### Word embeddings"
      ],
      "metadata": {
        "id": "q-tCRkPQFkSw"
      }
    },
    {
      "cell_type": "code",
      "source": [
        "def make_feature_vectors(words, model, num_features):\n",
        "    feature_vector = np.zeros((num_features, ))\n",
        "    index_keys = set(model.wv.index_to_key)\n",
        "    \n",
        "    for word in words:\n",
        "      if word in index_keys:\n",
        "        feature_vector = np.add(feature_vector, model.wv[word])\n",
        "    return feature_vector"
      ],
      "metadata": {
        "id": "_UoS6bdFswbZ"
      },
      "execution_count": 131,
      "outputs": []
    },
    {
      "cell_type": "code",
      "source": [
        "def avg_feature_vectors(essays, model, num_features):\n",
        "    final_essay_vector = np.zeros((len(essays), num_features))\n",
        "    \n",
        "    for i in range(len(essays)):\n",
        "        final_essay_vector[i] = make_feature_vectors(essays[i], model, num_features)\n",
        "    return final_essay_vector"
      ],
      "metadata": {
        "id": "mxpOCjb1tFUo"
      },
      "execution_count": 130,
      "outputs": []
    },
    {
      "cell_type": "markdown",
      "source": [
        "### Parameters"
      ],
      "metadata": {
        "id": "149i3K9KFmr0"
      }
    },
    {
      "cell_type": "code",
      "source": [
        "X = kaggle_data[\"Essay\"]\n",
        "y = kaggle_data[\"normalized_score\"]"
      ],
      "metadata": {
        "id": "lxMYQHlApDE5"
      },
      "execution_count": 7,
      "outputs": []
    },
    {
      "cell_type": "code",
      "source": [
        "num_fold = 2\n",
        "num_features = 200\n",
        "\n",
        "min_word_count = 40\n",
        "num_workers = 4\n",
        "max_distance = 10\n",
        "downsampling = 1e-3\n",
        "progress_val = 2000"
      ],
      "metadata": {
        "id": "rN7gQ6EaQTwM"
      },
      "execution_count": 121,
      "outputs": []
    },
    {
      "cell_type": "markdown",
      "source": [
        "### Training LSTM"
      ],
      "metadata": {
        "id": "EQWYijLkd9EM"
      }
    },
    {
      "cell_type": "code",
      "source": [
        "cv = KFold(n_splits=num_fold, shuffle=True)\n",
        "mae_results = []\n",
        "mse_results = []"
      ],
      "metadata": {
        "id": "4NyVH7VEdtwJ"
      },
      "execution_count": 105,
      "outputs": []
    },
    {
      "cell_type": "code",
      "source": [
        "for traincv, testcv in cv.split(X):\n",
        "  X_test, X_train, y_test, y_train = X.iloc[testcv], X.iloc[traincv], y.iloc[testcv], y.iloc[traincv]\n",
        "  \n",
        "  w2v = get_w2v(X_train, min_word_count, num_features, num_workers, max_distance, downsampling)\n",
        "\n",
        "  clean_train_essays = X_train.to_list()\n",
        "  clean_test_essays = X_test.to_list()\n",
        "\n",
        "  train_vectors = avg_feature_vectors(clean_train_essays, w2v, num_features)\n",
        "  test_vectors = avg_feature_vectors(clean_test_essays, w2v, num_features)\n",
        "\n",
        "  train_vectors = np.array(train_vectors)\n",
        "  test_vectors = np.array(test_vectors)\n",
        "  \n",
        "  train_vectors = np.reshape(train_vectors, (train_vectors.shape[0], 1, train_vectors.shape[1]))\n",
        "  test_vectors = np.reshape(test_vectors, (test_vectors.shape[0], 1, test_vectors.shape[1]))\n",
        "  \n",
        "  lstm_model = get_lstm()\n",
        "  lstm_model.fit(train_vectors, y_train, batch_size=32, epochs=50)\n",
        "\n",
        "  y_pred = lstm_model.predict(test_vectors)\n",
        "\n",
        "  y_pred = np.around(y_pred)\n",
        "\n",
        "  mse = mean_squared_error(y_test, y_pred)\n",
        "  mae = mean_absolute_error(y_test, y_pred)\n",
        "\n",
        "  mse_results.append(mse)\n",
        "  mae_results.append(mae)"
      ],
      "metadata": {
        "colab": {
          "base_uri": "https://localhost:8080/"
        },
        "id": "kLr_65sYo-mR",
        "outputId": "71aaca9e-db0e-4bd9-865c-591f865b9a4b"
      },
      "execution_count": 132,
      "outputs": [
        {
          "output_type": "stream",
          "name": "stderr",
          "text": [
            "WARNING:gensim.models.word2vec:Each 'sentences' item should be a list of words (usually unicode strings). First item here is instead plain <class 'str'>.\n"
          ]
        },
        {
          "output_type": "stream",
          "name": "stdout",
          "text": [
            "Model: \"sequential_24\"\n",
            "_________________________________________________________________\n",
            " Layer (type)                Output Shape              Param #   \n",
            "=================================================================\n",
            " lstm_51 (LSTM)              (None, 1, 200)            320800    \n",
            "                                                                 \n",
            " lstm_52 (LSTM)              (None, 100)               120400    \n",
            "                                                                 \n",
            " dropout_21 (Dropout)        (None, 100)               0         \n",
            "                                                                 \n",
            " dense_20 (Dense)            (None, 1)                 101       \n",
            "                                                                 \n",
            "=================================================================\n",
            "Total params: 441,301\n",
            "Trainable params: 441,301\n",
            "Non-trainable params: 0\n",
            "_________________________________________________________________\n",
            "Epoch 1/50\n",
            "92/92 [==============================] - 7s 10ms/step - loss: 0.0724 - mae: 0.2140\n",
            "Epoch 2/50\n",
            "92/92 [==============================] - 1s 15ms/step - loss: 0.0471 - mae: 0.1734\n",
            "Epoch 3/50\n",
            "92/92 [==============================] - 1s 14ms/step - loss: 0.0422 - mae: 0.1630\n",
            "Epoch 4/50\n",
            "92/92 [==============================] - 1s 10ms/step - loss: 0.0393 - mae: 0.1568\n",
            "Epoch 5/50\n",
            "92/92 [==============================] - 1s 10ms/step - loss: 0.0402 - mae: 0.1584\n",
            "Epoch 6/50\n",
            "92/92 [==============================] - 1s 10ms/step - loss: 0.0376 - mae: 0.1528\n",
            "Epoch 7/50\n",
            "92/92 [==============================] - 1s 12ms/step - loss: 0.0359 - mae: 0.1486\n",
            "Epoch 8/50\n",
            "92/92 [==============================] - 1s 10ms/step - loss: 0.0357 - mae: 0.1481\n",
            "Epoch 9/50\n",
            "92/92 [==============================] - 1s 10ms/step - loss: 0.0348 - mae: 0.1474\n",
            "Epoch 10/50\n",
            "92/92 [==============================] - 1s 10ms/step - loss: 0.0343 - mae: 0.1460\n",
            "Epoch 11/50\n",
            "92/92 [==============================] - 1s 10ms/step - loss: 0.0334 - mae: 0.1441\n",
            "Epoch 12/50\n",
            "92/92 [==============================] - 1s 12ms/step - loss: 0.0329 - mae: 0.1426\n",
            "Epoch 13/50\n",
            "92/92 [==============================] - 1s 14ms/step - loss: 0.0318 - mae: 0.1396\n",
            "Epoch 14/50\n",
            "92/92 [==============================] - 2s 18ms/step - loss: 0.0321 - mae: 0.1411\n",
            "Epoch 15/50\n",
            "92/92 [==============================] - 1s 10ms/step - loss: 0.0324 - mae: 0.1409\n",
            "Epoch 16/50\n",
            "92/92 [==============================] - 1s 10ms/step - loss: 0.0319 - mae: 0.1400\n",
            "Epoch 17/50\n",
            "92/92 [==============================] - 1s 10ms/step - loss: 0.0313 - mae: 0.1386\n",
            "Epoch 18/50\n",
            "92/92 [==============================] - 1s 11ms/step - loss: 0.0308 - mae: 0.1374\n",
            "Epoch 19/50\n",
            "92/92 [==============================] - 1s 10ms/step - loss: 0.0305 - mae: 0.1365\n",
            "Epoch 20/50\n",
            "92/92 [==============================] - 1s 11ms/step - loss: 0.0301 - mae: 0.1345\n",
            "Epoch 21/50\n",
            "92/92 [==============================] - 1s 10ms/step - loss: 0.0302 - mae: 0.1359\n",
            "Epoch 22/50\n",
            "92/92 [==============================] - 1s 10ms/step - loss: 0.0303 - mae: 0.1350\n",
            "Epoch 23/50\n",
            "92/92 [==============================] - 1s 11ms/step - loss: 0.0297 - mae: 0.1344\n",
            "Epoch 24/50\n",
            "92/92 [==============================] - 1s 10ms/step - loss: 0.0298 - mae: 0.1341\n",
            "Epoch 25/50\n",
            "92/92 [==============================] - 2s 17ms/step - loss: 0.0304 - mae: 0.1361\n",
            "Epoch 26/50\n",
            "92/92 [==============================] - 1s 13ms/step - loss: 0.0298 - mae: 0.1339\n",
            "Epoch 27/50\n",
            "92/92 [==============================] - 1s 10ms/step - loss: 0.0295 - mae: 0.1340\n",
            "Epoch 28/50\n",
            "92/92 [==============================] - 1s 11ms/step - loss: 0.0294 - mae: 0.1343\n",
            "Epoch 29/50\n",
            "92/92 [==============================] - 1s 12ms/step - loss: 0.0291 - mae: 0.1332\n",
            "Epoch 30/50\n",
            "92/92 [==============================] - 1s 11ms/step - loss: 0.0291 - mae: 0.1336\n",
            "Epoch 31/50\n",
            "92/92 [==============================] - 1s 11ms/step - loss: 0.0291 - mae: 0.1322\n",
            "Epoch 32/50\n",
            "92/92 [==============================] - 1s 10ms/step - loss: 0.0292 - mae: 0.1325\n",
            "Epoch 33/50\n",
            "92/92 [==============================] - 1s 10ms/step - loss: 0.0291 - mae: 0.1326\n",
            "Epoch 34/50\n",
            "92/92 [==============================] - 1s 10ms/step - loss: 0.0293 - mae: 0.1335\n",
            "Epoch 35/50\n",
            "92/92 [==============================] - 1s 11ms/step - loss: 0.0290 - mae: 0.1321\n",
            "Epoch 36/50\n",
            "92/92 [==============================] - 2s 18ms/step - loss: 0.0295 - mae: 0.1337\n",
            "Epoch 37/50\n",
            "92/92 [==============================] - 1s 14ms/step - loss: 0.0291 - mae: 0.1327\n",
            "Epoch 38/50\n",
            "92/92 [==============================] - 1s 10ms/step - loss: 0.0292 - mae: 0.1335\n",
            "Epoch 39/50\n",
            "92/92 [==============================] - 1s 10ms/step - loss: 0.0297 - mae: 0.1344\n",
            "Epoch 40/50\n",
            "92/92 [==============================] - 1s 13ms/step - loss: 0.0289 - mae: 0.1316\n",
            "Epoch 41/50\n",
            "92/92 [==============================] - 1s 10ms/step - loss: 0.0292 - mae: 0.1328\n",
            "Epoch 42/50\n",
            "92/92 [==============================] - 1s 10ms/step - loss: 0.0288 - mae: 0.1322\n",
            "Epoch 43/50\n",
            "92/92 [==============================] - 1s 11ms/step - loss: 0.0293 - mae: 0.1332\n",
            "Epoch 44/50\n",
            "92/92 [==============================] - 1s 10ms/step - loss: 0.0287 - mae: 0.1318\n",
            "Epoch 45/50\n",
            "92/92 [==============================] - 1s 11ms/step - loss: 0.0287 - mae: 0.1318\n",
            "Epoch 46/50\n",
            "92/92 [==============================] - 1s 11ms/step - loss: 0.0290 - mae: 0.1324\n",
            "Epoch 47/50\n",
            "92/92 [==============================] - 1s 13ms/step - loss: 0.0289 - mae: 0.1325\n",
            "Epoch 48/50\n",
            "92/92 [==============================] - 2s 17ms/step - loss: 0.0292 - mae: 0.1329\n",
            "Epoch 49/50\n",
            "92/92 [==============================] - 1s 10ms/step - loss: 0.0292 - mae: 0.1335\n",
            "Epoch 50/50\n",
            "92/92 [==============================] - 1s 10ms/step - loss: 0.0288 - mae: 0.1324\n",
            "92/92 [==============================] - 1s 2ms/step\n"
          ]
        },
        {
          "output_type": "stream",
          "name": "stderr",
          "text": [
            "WARNING:gensim.models.word2vec:Each 'sentences' item should be a list of words (usually unicode strings). First item here is instead plain <class 'str'>.\n"
          ]
        },
        {
          "output_type": "stream",
          "name": "stdout",
          "text": [
            "Model: \"sequential_25\"\n",
            "_________________________________________________________________\n",
            " Layer (type)                Output Shape              Param #   \n",
            "=================================================================\n",
            " lstm_53 (LSTM)              (None, 1, 200)            320800    \n",
            "                                                                 \n",
            " lstm_54 (LSTM)              (None, 100)               120400    \n",
            "                                                                 \n",
            " dropout_22 (Dropout)        (None, 100)               0         \n",
            "                                                                 \n",
            " dense_21 (Dense)            (None, 1)                 101       \n",
            "                                                                 \n",
            "=================================================================\n",
            "Total params: 441,301\n",
            "Trainable params: 441,301\n",
            "Non-trainable params: 0\n",
            "_________________________________________________________________\n",
            "Epoch 1/50\n",
            "92/92 [==============================] - 4s 10ms/step - loss: 0.0675 - mae: 0.2049\n",
            "Epoch 2/50\n",
            "92/92 [==============================] - 1s 10ms/step - loss: 0.0506 - mae: 0.1794\n",
            "Epoch 3/50\n",
            "92/92 [==============================] - 1s 10ms/step - loss: 0.0446 - mae: 0.1674\n",
            "Epoch 4/50\n",
            "92/92 [==============================] - 1s 14ms/step - loss: 0.0416 - mae: 0.1616\n",
            "Epoch 5/50\n",
            "92/92 [==============================] - 1s 15ms/step - loss: 0.0405 - mae: 0.1582\n",
            "Epoch 6/50\n",
            "92/92 [==============================] - 1s 10ms/step - loss: 0.0400 - mae: 0.1594\n",
            "Epoch 7/50\n",
            "92/92 [==============================] - 1s 10ms/step - loss: 0.0387 - mae: 0.1562\n",
            "Epoch 8/50\n",
            "92/92 [==============================] - 1s 10ms/step - loss: 0.0380 - mae: 0.1549\n",
            "Epoch 9/50\n",
            "92/92 [==============================] - 1s 10ms/step - loss: 0.0373 - mae: 0.1539\n",
            "Epoch 10/50\n",
            "92/92 [==============================] - 1s 10ms/step - loss: 0.0367 - mae: 0.1527\n",
            "Epoch 11/50\n",
            "92/92 [==============================] - 1s 10ms/step - loss: 0.0349 - mae: 0.1487\n",
            "Epoch 12/50\n",
            "92/92 [==============================] - 1s 10ms/step - loss: 0.0353 - mae: 0.1486\n",
            "Epoch 13/50\n",
            "92/92 [==============================] - 1s 11ms/step - loss: 0.0342 - mae: 0.1477\n",
            "Epoch 14/50\n",
            "92/92 [==============================] - 1s 10ms/step - loss: 0.0348 - mae: 0.1482\n",
            "Epoch 15/50\n",
            "92/92 [==============================] - 1s 10ms/step - loss: 0.0335 - mae: 0.1453\n",
            "Epoch 16/50\n",
            "92/92 [==============================] - 1s 16ms/step - loss: 0.0342 - mae: 0.1474\n",
            "Epoch 17/50\n",
            "92/92 [==============================] - 1s 14ms/step - loss: 0.0330 - mae: 0.1428\n",
            "Epoch 18/50\n",
            "92/92 [==============================] - 1s 10ms/step - loss: 0.0330 - mae: 0.1435\n",
            "Epoch 19/50\n",
            "92/92 [==============================] - 1s 10ms/step - loss: 0.0328 - mae: 0.1432\n",
            "Epoch 20/50\n",
            "92/92 [==============================] - 1s 10ms/step - loss: 0.0326 - mae: 0.1424\n",
            "Epoch 21/50\n",
            "92/92 [==============================] - 1s 11ms/step - loss: 0.0330 - mae: 0.1434\n",
            "Epoch 22/50\n",
            "92/92 [==============================] - 1s 10ms/step - loss: 0.0323 - mae: 0.1418\n",
            "Epoch 23/50\n",
            "92/92 [==============================] - 1s 11ms/step - loss: 0.0322 - mae: 0.1413\n",
            "Epoch 24/50\n",
            "92/92 [==============================] - 1s 10ms/step - loss: 0.0315 - mae: 0.1401\n",
            "Epoch 25/50\n",
            "92/92 [==============================] - 1s 10ms/step - loss: 0.0315 - mae: 0.1405\n",
            "Epoch 26/50\n",
            "92/92 [==============================] - 1s 10ms/step - loss: 0.0317 - mae: 0.1413\n",
            "Epoch 27/50\n",
            "92/92 [==============================] - 1s 10ms/step - loss: 0.0312 - mae: 0.1394\n",
            "Epoch 28/50\n",
            "92/92 [==============================] - 2s 17ms/step - loss: 0.0310 - mae: 0.1389\n",
            "Epoch 29/50\n",
            "92/92 [==============================] - 1s 12ms/step - loss: 0.0310 - mae: 0.1391\n",
            "Epoch 30/50\n",
            "92/92 [==============================] - 1s 11ms/step - loss: 0.0312 - mae: 0.1391\n",
            "Epoch 31/50\n",
            "92/92 [==============================] - 1s 11ms/step - loss: 0.0308 - mae: 0.1383\n",
            "Epoch 32/50\n",
            "92/92 [==============================] - 1s 11ms/step - loss: 0.0313 - mae: 0.1394\n",
            "Epoch 33/50\n",
            "92/92 [==============================] - 1s 12ms/step - loss: 0.0316 - mae: 0.1405\n",
            "Epoch 34/50\n",
            "92/92 [==============================] - 1s 11ms/step - loss: 0.0311 - mae: 0.1394\n",
            "Epoch 35/50\n",
            "92/92 [==============================] - 1s 11ms/step - loss: 0.0304 - mae: 0.1376\n",
            "Epoch 36/50\n",
            "92/92 [==============================] - 1s 11ms/step - loss: 0.0306 - mae: 0.1373\n",
            "Epoch 37/50\n",
            "92/92 [==============================] - 1s 10ms/step - loss: 0.0305 - mae: 0.1384\n",
            "Epoch 38/50\n",
            "92/92 [==============================] - 1s 10ms/step - loss: 0.0310 - mae: 0.1385\n",
            "Epoch 39/50\n",
            "92/92 [==============================] - 2s 17ms/step - loss: 0.0310 - mae: 0.1388\n",
            "Epoch 40/50\n",
            "92/92 [==============================] - 1s 13ms/step - loss: 0.0309 - mae: 0.1384\n",
            "Epoch 41/50\n",
            "92/92 [==============================] - 1s 11ms/step - loss: 0.0312 - mae: 0.1390\n",
            "Epoch 42/50\n",
            "92/92 [==============================] - 1s 12ms/step - loss: 0.0312 - mae: 0.1395\n",
            "Epoch 43/50\n",
            "92/92 [==============================] - 1s 11ms/step - loss: 0.0311 - mae: 0.1392\n",
            "Epoch 44/50\n",
            "92/92 [==============================] - 1s 13ms/step - loss: 0.0309 - mae: 0.1388\n",
            "Epoch 45/50\n",
            "92/92 [==============================] - 1s 13ms/step - loss: 0.0308 - mae: 0.1390\n",
            "Epoch 46/50\n",
            "92/92 [==============================] - 1s 11ms/step - loss: 0.0308 - mae: 0.1388\n",
            "Epoch 47/50\n",
            "92/92 [==============================] - 1s 10ms/step - loss: 0.0308 - mae: 0.1382\n",
            "Epoch 48/50\n",
            "92/92 [==============================] - 1s 10ms/step - loss: 0.0310 - mae: 0.1389\n",
            "Epoch 49/50\n",
            "92/92 [==============================] - 1s 11ms/step - loss: 0.0304 - mae: 0.1377\n",
            "Epoch 50/50\n",
            "92/92 [==============================] - 2s 18ms/step - loss: 0.0302 - mae: 0.1375\n",
            "92/92 [==============================] - 1s 2ms/step\n"
          ]
        }
      ]
    },
    {
      "cell_type": "code",
      "source": [
        "np.around(np.array(mse_results).mean(), decimals=4)"
      ],
      "metadata": {
        "colab": {
          "base_uri": "https://localhost:8080/"
        },
        "id": "ma9XYpoTpXe7",
        "outputId": "fc77ee43-c752-4eee-8f9b-408d6832d099"
      },
      "execution_count": 133,
      "outputs": [
        {
          "output_type": "execute_result",
          "data": {
            "text/plain": [
              "0.1761"
            ]
          },
          "metadata": {},
          "execution_count": 133
        }
      ]
    },
    {
      "cell_type": "code",
      "source": [
        "np.around(np.array(mae_results).mean(), decimals=4)"
      ],
      "metadata": {
        "colab": {
          "base_uri": "https://localhost:8080/"
        },
        "id": "_ruydgJ99RFs",
        "outputId": "aeb162b0-3187-4a21-bfe4-b4ef3576dc61"
      },
      "execution_count": 134,
      "outputs": [
        {
          "output_type": "execute_result",
          "data": {
            "text/plain": [
              "0.3812"
            ]
          },
          "metadata": {},
          "execution_count": 134
        }
      ]
    }
  ]
}