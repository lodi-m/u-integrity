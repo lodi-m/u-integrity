{
  "nbformat": 4,
  "nbformat_minor": 0,
  "metadata": {
    "colab": {
      "provenance": []
    },
    "kernelspec": {
      "name": "python3",
      "display_name": "Python 3"
    },
    "language_info": {
      "name": "python"
    }
  },
  "cells": [
    {
      "cell_type": "markdown",
      "source": [
        "### Setup"
      ],
      "metadata": {
        "id": "eqn_CwRKda-l"
      }
    },
    {
      "cell_type": "code",
      "source": [
        "!pip install openai"
      ],
      "metadata": {
        "colab": {
          "base_uri": "https://localhost:8080/"
        },
        "id": "LxrkLQIddhSp",
        "outputId": "259675ae-896d-421c-fd35-d6909132b0ad"
      },
      "execution_count": null,
      "outputs": [
        {
          "output_type": "stream",
          "name": "stdout",
          "text": [
            "Looking in indexes: https://pypi.org/simple, https://us-python.pkg.dev/colab-wheels/public/simple/\n",
            "Requirement already satisfied: openai in /usr/local/lib/python3.9/dist-packages (0.27.2)\n",
            "Requirement already satisfied: requests>=2.20 in /usr/local/lib/python3.9/dist-packages (from openai) (2.27.1)\n",
            "Requirement already satisfied: aiohttp in /usr/local/lib/python3.9/dist-packages (from openai) (3.8.4)\n",
            "Requirement already satisfied: tqdm in /usr/local/lib/python3.9/dist-packages (from openai) (4.65.0)\n",
            "Requirement already satisfied: urllib3<1.27,>=1.21.1 in /usr/local/lib/python3.9/dist-packages (from requests>=2.20->openai) (1.26.15)\n",
            "Requirement already satisfied: certifi>=2017.4.17 in /usr/local/lib/python3.9/dist-packages (from requests>=2.20->openai) (2022.12.7)\n",
            "Requirement already satisfied: idna<4,>=2.5 in /usr/local/lib/python3.9/dist-packages (from requests>=2.20->openai) (3.4)\n",
            "Requirement already satisfied: charset-normalizer~=2.0.0 in /usr/local/lib/python3.9/dist-packages (from requests>=2.20->openai) (2.0.12)\n",
            "Requirement already satisfied: attrs>=17.3.0 in /usr/local/lib/python3.9/dist-packages (from aiohttp->openai) (22.2.0)\n",
            "Requirement already satisfied: async-timeout<5.0,>=4.0.0a3 in /usr/local/lib/python3.9/dist-packages (from aiohttp->openai) (4.0.2)\n",
            "Requirement already satisfied: yarl<2.0,>=1.0 in /usr/local/lib/python3.9/dist-packages (from aiohttp->openai) (1.8.2)\n",
            "Requirement already satisfied: multidict<7.0,>=4.5 in /usr/local/lib/python3.9/dist-packages (from aiohttp->openai) (6.0.4)\n",
            "Requirement already satisfied: aiosignal>=1.1.2 in /usr/local/lib/python3.9/dist-packages (from aiohttp->openai) (1.3.1)\n",
            "Requirement already satisfied: frozenlist>=1.1.1 in /usr/local/lib/python3.9/dist-packages (from aiohttp->openai) (1.3.3)\n"
          ]
        }
      ]
    },
    {
      "cell_type": "code",
      "source": [
        "import openai\n",
        "import pandas as pd"
      ],
      "metadata": {
        "id": "9uFussZUdayY"
      },
      "execution_count": null,
      "outputs": []
    },
    {
      "cell_type": "code",
      "source": [
        "from google.colab import drive\n",
        "drive.mount('/content/drive')"
      ],
      "metadata": {
        "id": "999Kbh3ydmIp"
      },
      "execution_count": null,
      "outputs": []
    },
    {
      "cell_type": "code",
      "source": [
        "DATA_DIR = '/content/drive/MyDrive/U-Integrity_Data'"
      ],
      "metadata": {
        "id": "oFrY5Zzwd8pb"
      },
      "execution_count": null,
      "outputs": []
    },
    {
      "cell_type": "code",
      "execution_count": null,
      "metadata": {
        "id": "DuAqWTwTc1ej"
      },
      "outputs": [],
      "source": [
        "openai.api_key = f\"{DATA_DIR}/.openai_key.txt\"\n",
        "openai.api_key ='/content/drive/MyDrive/U-Integrity_Data/openai_key.txt'"
      ]
    },
    {
      "cell_type": "markdown",
      "source": [
        "### Essay prompts\n",
        "Prompts 3,4,5,6 are all source-dependent which is why we chose to omit those as we don't have the specific source material for the essays itself.\n",
        "\n",
        "This shrinks our overall dataset from ~13,000 essays to 1,785 + 1,800 + 1,730 + 918 = 6,233 (prompts 1,2,7,8)\n",
        "\n",
        "Corresponding essay lengths on avg for prompts 1,2,7,8 are: 350, 350, 250, 650"
      ],
      "metadata": {
        "id": "Q8jcCc39fAik"
      }
    },
    {
      "cell_type": "code",
      "source": [
        "prompt1 = '''More and more people use computers, but not everyone agrees that this benefits society.\n",
        "Those who support advances in technology believe that computers have a positive effect on people.\n",
        "They teach hand-eye coordination, give people the ability to learn about faraway places and people,\n",
        "and even allow people to talk online with other people. Others have different ideas.\n",
        "Some experts are concerned that people are spending too much time on their computers\n",
        "and less time exercising, enjoying nature, and interacting with family and friends.\n",
        "\n",
        "Write a letter to your local newspaper in which you state your opinion on the\n",
        "effects computers have on people. Persuade the readers to agree with you.'''\n",
        "\n",
        "prompt2 = '''Censorship in the Libraries\n",
        "\"All of us can think of a book that we hope none of our children or any other children have taken off the shelf.\n",
        "But if I have the right to remove that book from the shelf -- that work I abhor -- then you also have exactly the same right\n",
        "and so does everyone else. And then we have no books left on the shelf for any of us.\" --Katherine Paterson, Author\n",
        "\n",
        "Write a persuasive essay to a newspaper reflecting your views on censorship in libraries.\n",
        "Do you believe that certain materials, such as books, music, movies, magazines, etc., should be removed from the\n",
        "shelves if they are found offensive? Support your position with convincing arguments from your own experience, observations, and/or reading.'''\n",
        "\n",
        "prompt7 = '''Write about patience. Being patient means that you are understanding and tolerant.\n",
        "A patient person experience difficulties without complaining.\n",
        "Do only one of the following: write a story about a time when you were patient OR write a story\n",
        "about a time when someone you know was patient OR write a story in your own way about patience.'''\n",
        "\n",
        "prompt8 = '''We all understand the benefits of laughter. For example, someone once said, “Laughter is the shortest distance between two people.”\n",
        "Many other people believe that laughter is an important part of any relationship. Tell a true story in which laughter was one element or part.'''"
      ],
      "metadata": {
        "id": "RDJEL2JPfCgV"
      },
      "execution_count": null,
      "outputs": []
    },
    {
      "cell_type": "markdown",
      "source": [
        "### Generating essays"
      ],
      "metadata": {
        "id": "GGPYFRE4eMSQ"
      }
    },
    {
      "cell_type": "code",
      "source": [
        "essay_prompts = [prompt1, prompt2, prompt7, prompt8]\n",
        "num_gen_essays = [170, 180, 170, 90] #10% of the number of Kaggle essays\n",
        "num_tokens = [512, 512, 256, 768]"
      ],
      "metadata": {
        "id": "1Dq5J2_XP8aO"
      },
      "execution_count": null,
      "outputs": []
    },
    {
      "cell_type": "markdown",
      "source": [
        "#### GPT-3\n",
        "\n",
        "Note: It took ~24 mins to generate 170+180+170+90=630 essays with GPT-3"
      ],
      "metadata": {
        "id": "lKU0F5KubNJ6"
      }
    },
    {
      "cell_type": "code",
      "source": [
        "for i in range(len(essay_prompts)):\n",
        "  gen_essay_output = []\n",
        "  filepath = DATA_DIR + f'/prompt{i}_essays.csv'\n",
        "\n",
        "  print(f'Generating for prompt {i}...')\n",
        "  print(essay_prompts[i])\n",
        "\n",
        "  for j in range(num_gen_essays[i]):\n",
        "    print(j)\n",
        "\n",
        "    response = openai.Completion.create(\n",
        "        engine = \"text-curie-001\",\n",
        "        prompt = essay_prompts[i],\n",
        "        max_tokens = num_tokens[i],\n",
        "        n = 1,\n",
        "        temperature = 1,\n",
        "    )\n",
        "    gen_essay_output.append(response.choices[0].text)\n",
        "\n",
        "  df = pd.DataFrame(gen_essay_output, columns=['gen_essay'])\n",
        "  df.to_csv(filepath, encoding='utf_8_sig')\n",
        "\n",
        "  print(f'Finished saving csv file for prompt {i}...')\n",
        "  print(\"Complete. Please check your file at \", filepath)"
      ],
      "metadata": {
        "id": "DIPJ9ovBhTk9"
      },
      "execution_count": null,
      "outputs": []
    },
    {
      "cell_type": "markdown",
      "source": [
        "#### GPT-3.5-turbo\n",
        "\n",
        "Note: It took ~10 mins to generate 30 essays with GPT-3.5"
      ],
      "metadata": {
        "id": "NsmwESxabWuZ"
      }
    },
    {
      "cell_type": "code",
      "source": [
        "for i in range(len(essay_prompts)):\n",
        "  gen_essay_output = []\n",
        "  filepath2 = DATA_DIR + f'/prompt{i}_gpt3turbo_essays.csv'\n",
        "\n",
        "  print(f'Generating for prompt {i}...')\n",
        "  print(essay_prompts[i])\n",
        "\n",
        "  for j in range(num_gen_essays[i]):\n",
        "    print(j)\n",
        "\n",
        "    response2 = openai.ChatCompletion.create(\n",
        "      model = \"gpt-3.5-turbo\",\n",
        "      messages = [{\"role\": \"user\", \"content\": essay_prompts[i]}],\n",
        "      max_tokens = num_tokens[i],\n",
        "      n = 1,\n",
        "      temperature = 1\n",
        "      )\n",
        "\n",
        "    gen_essay_output.append(response2.choices[0].message.content)\n",
        "\n",
        "  df2 = pd.DataFrame(gen_essay_output, columns=['gen_essay'])\n",
        "  df2.to_csv(filepath2, encoding='utf_8_sig')\n",
        "\n",
        "  print(f'Finished saving csv file for prompt {i}...')\n",
        "  print(\"Complete. Please check your file at \", filepath2)"
      ],
      "metadata": {
        "id": "Bd07pHxcwsoK"
      },
      "execution_count": null,
      "outputs": []
    }
  ]
}