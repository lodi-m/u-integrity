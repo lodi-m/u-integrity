{
  "nbformat": 4,
  "nbformat_minor": 0,
  "metadata": {
    "colab": {
      "provenance": []
    },
    "kernelspec": {
      "name": "python3",
      "display_name": "Python 3"
    },
    "language_info": {
      "name": "python"
    }
  },
  "cells": [
    {
      "cell_type": "markdown",
      "source": [
        "### Setup"
      ],
      "metadata": {
        "id": "eM4t46ItpTAL"
      }
    },
    {
      "cell_type": "code",
      "execution_count": null,
      "metadata": {
        "id": "DToSobmRpOBb"
      },
      "outputs": [],
      "source": [
        "import pandas as pd\n",
        "import matplotlib.pyplot as plt\n",
        "import numpy as np\n",
        "from matplotlib.ticker import PercentFormatter"
      ]
    },
    {
      "cell_type": "markdown",
      "source": [
        "### Data"
      ],
      "metadata": {
        "id": "zHGQ4mW9pU10"
      }
    },
    {
      "cell_type": "code",
      "source": [
        "kaggle_data = pd.read_csv(\"https://raw.githubusercontent.com/lodi-m/u-integrity/main/data/normalized_scores/normalized_kaggle_essay_set.csv\")\n",
        "chatgpt_pred = pd.read_csv(\"https://raw.githubusercontent.com/lodi-m/u-integrity/main/data/lstm_predicted_chatgpt_scores.csv\")"
      ],
      "metadata": {
        "id": "NwSIlenipVqM"
      },
      "execution_count": null,
      "outputs": []
    },
    {
      "cell_type": "code",
      "source": [
        "kaggle_scores = kaggle_data[\"normalized_score\"]\n",
        "chatgpt_scores = chatgpt_pred[\"lstm_score\"]"
      ],
      "metadata": {
        "id": "2lM-FVRSp_IE"
      },
      "execution_count": null,
      "outputs": []
    },
    {
      "cell_type": "markdown",
      "source": [
        "### Visualizations"
      ],
      "metadata": {
        "id": "tcfZCEsPpsA2"
      }
    },
    {
      "cell_type": "code",
      "source": [
        "plt.hist(kaggle_scores, weights=np.ones(len(kaggle_scores)) / len(kaggle_scores), alpha=0.6, label='Kaggle Essays')\n",
        "plt.hist(chatgpt_scores, weights=np.ones(len(chatgpt_scores)) / len(chatgpt_scores), alpha=0.6, label='ChatGPT Essays')\n",
        "\n",
        "plt.gca().yaxis.set_major_formatter(PercentFormatter(1))\n",
        "plt.title('Distribution of Essays (%-wise) by Score')\n",
        "plt.xlabel('Score')\n",
        "plt.ylabel('Percent of Essays')\n",
        "plt.legend()\n",
        "plt.show()"
      ],
      "metadata": {
        "colab": {
          "base_uri": "https://localhost:8080/",
          "height": 472
        },
        "id": "lwxopV0iprss",
        "outputId": "c35d7b45-60a3-4901-c106-0809645fbdb2"
      },
      "execution_count": null,
      "outputs": [
        {
          "output_type": "display_data",
          "data": {
            "text/plain": [
              "<Figure size 640x480 with 1 Axes>"
            ],
            "image/png": "[encoded data removed]"
          },
          "metadata": {}
        }
      ]
    },
    {
      "cell_type": "markdown",
      "source": [
        "### Statistics"
      ],
      "metadata": {
        "id": "5CDdIb3qtUPz"
      }
    },
    {
      "cell_type": "markdown",
      "source": [
        "#### Summary Stats"
      ],
      "metadata": {
        "id": "ekSxtYUot1M4"
      }
    },
    {
      "cell_type": "code",
      "source": [
        "kaggle_scores.describe()"
      ],
      "metadata": {
        "colab": {
          "base_uri": "https://localhost:8080/"
        },
        "id": "aJg7iI-XtnS0",
        "outputId": "5877f466-6c3c-4470-8bd6-3eca8ca542e2"
      },
      "execution_count": null,
      "outputs": [
        {
          "output_type": "execute_result",
          "data": {
            "text/plain": [
              "count    5875.000000\n",
              "mean        0.617061\n",
              "std         0.176122\n",
              "min         0.000000\n",
              "25%         0.500000\n",
              "50%         0.600000\n",
              "75%         0.750000\n",
              "max         1.000000\n",
              "Name: normalized_score, dtype: float64"
            ]
          },
          "metadata": {},
          "execution_count": 49
        }
      ]
    },
    {
      "cell_type": "code",
      "source": [
        "chatgpt_scores.describe()"
      ],
      "metadata": {
        "colab": {
          "base_uri": "https://localhost:8080/"
        },
        "id": "hnoZ0pd5tnLr",
        "outputId": "a2f5fa46-9f85-4605-fde7-fd62d899afee"
      },
      "execution_count": null,
      "outputs": [
        {
          "output_type": "execute_result",
          "data": {
            "text/plain": [
              "count    609.000000\n",
              "mean       0.647833\n",
              "std        0.075437\n",
              "min        0.410000\n",
              "25%        0.610000\n",
              "50%        0.630000\n",
              "75%        0.660000\n",
              "max        0.990000\n",
              "Name: lstm_score, dtype: float64"
            ]
          },
          "metadata": {},
          "execution_count": 48
        }
      ]
    },
    {
      "cell_type": "markdown",
      "source": [
        "#### Top 10 most common scores %-wise"
      ],
      "metadata": {
        "id": "INbI-1tpt3OR"
      }
    },
    {
      "cell_type": "code",
      "source": [
        "kaggle_scores.value_counts(normalize=True).nlargest(10)"
      ],
      "metadata": {
        "colab": {
          "base_uri": "https://localhost:8080/"
        },
        "outputId": "c168aa34-ddc1-495a-cfad-c767e312a4dc",
        "id": "Wtvwvl5ZtIGn"
      },
      "execution_count": null,
      "outputs": [
        {
          "output_type": "execute_result",
          "data": {
            "text/plain": [
              "0.600000    0.144340\n",
              "0.500000    0.132426\n",
              "0.750000    0.100766\n",
              "0.700000    0.062128\n",
              "0.625000    0.060426\n",
              "0.800000    0.056000\n",
              "0.636364    0.033872\n",
              "0.681818    0.027234\n",
              "0.400000    0.027064\n",
              "1.000000    0.025702\n",
              "Name: normalized_score, dtype: float64"
            ]
          },
          "metadata": {},
          "execution_count": 38
        }
      ]
    },
    {
      "cell_type": "code",
      "source": [
        "chatgpt_scores.value_counts(normalize=True).nlargest(10)"
      ],
      "metadata": {
        "colab": {
          "base_uri": "https://localhost:8080/"
        },
        "id": "OUyuhde_qLlX",
        "outputId": "18316bfb-d2a5-4a8e-d515-9b7d72b21435"
      },
      "execution_count": null,
      "outputs": [
        {
          "output_type": "execute_result",
          "data": {
            "text/plain": [
              "0.64    0.114943\n",
              "0.63    0.111658\n",
              "0.62    0.103448\n",
              "0.61    0.096880\n",
              "0.65    0.072250\n",
              "0.66    0.057471\n",
              "0.60    0.044335\n",
              "0.58    0.039409\n",
              "0.67    0.037767\n",
              "0.59    0.036125\n",
              "Name: lstm_score, dtype: float64"
            ]
          },
          "metadata": {},
          "execution_count": 37
        }
      ]
    },
    {
      "cell_type": "markdown",
      "source": [
        "#### Investigating percentage of essays per score bin"
      ],
      "metadata": {
        "id": "781oNvEWt8Pm"
      }
    },
    {
      "cell_type": "code",
      "source": [
        "greater_than = 0.60\n",
        "less_than = 0.75"
      ],
      "metadata": {
        "id": "TNA1_PfWtXBe"
      },
      "execution_count": null,
      "outputs": []
    },
    {
      "cell_type": "code",
      "source": [
        "kaggle_scores.between(greater_than, less_than, inclusive='both').sum() / len(kaggle_scores)"
      ],
      "metadata": {
        "colab": {
          "base_uri": "https://localhost:8080/"
        },
        "outputId": "a7d0dc55-fbd4-449d-a7a6-b27ad5000c6a",
        "id": "skTm5ZT3tIGo"
      },
      "execution_count": null,
      "outputs": [
        {
          "output_type": "execute_result",
          "data": {
            "text/plain": [
              "0.46485106382978725"
            ]
          },
          "metadata": {},
          "execution_count": 44
        }
      ]
    },
    {
      "cell_type": "code",
      "source": [
        "chatgpt_scores.between(greater_than, less_than, inclusive='both').sum() / len(chatgpt_scores)"
      ],
      "metadata": {
        "colab": {
          "base_uri": "https://localhost:8080/"
        },
        "id": "nMRcHQkfsACi",
        "outputId": "5c005259-737c-45db-8f02-f846a20b574a"
      },
      "execution_count": null,
      "outputs": [
        {
          "output_type": "execute_result",
          "data": {
            "text/plain": [
              "0.7487684729064039"
            ]
          },
          "metadata": {},
          "execution_count": 45
        }
      ]
    }
  ]
}