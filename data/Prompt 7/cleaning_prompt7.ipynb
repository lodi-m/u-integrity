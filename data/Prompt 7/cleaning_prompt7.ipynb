{
 "cells": [
  {
   "attachments": {},
   "cell_type": "markdown",
   "metadata": {},
   "source": [
    "## Packages"
   ]
  },
  {
   "cell_type": "code",
   "execution_count": 93,
   "metadata": {},
   "outputs": [],
   "source": [
    "# Standard Packages\n",
    "import numpy as np\n",
    "import pandas as pd\n",
    "\n",
    "import string # For punctuation\n",
    "import re # Regular expressions\n",
    "\n",
    "from nltk.corpus import stopwords\n",
    "stop_words = stopwords.words(\"english\")\n",
    "\n",
    "import matplotlib.pyplot as plt\n",
    "import seaborn as sns\n",
    "sns.set_theme()\n",
    "\n",
    "from nltk.stem import WordNetLemmatizer # Lemmatization\n",
    "from nltk.stem import PorterStemmer # Stemming\n"
   ]
  },
  {
   "attachments": {},
   "cell_type": "markdown",
   "metadata": {},
   "source": [
    "## Reading File"
   ]
  },
  {
   "cell_type": "code",
   "execution_count": 94,
   "metadata": {},
   "outputs": [
    {
     "name": "stdout",
     "output_type": "stream",
     "text": [
      "                                           gen_essay\n",
      "0  \\n\\n\\nI was having a really hard time with mat...\n",
      "1  \\n\\nMy mom is always so patient with me. We go...\n",
      "2  \\n\\n\\nPatience is one of the most important th...\n",
      "3  \\n\\nA woman was at the doctor's office for her...\n",
      "4  \\n\\nPatience is a virtue that is often times d...\n"
     ]
    }
   ],
   "source": [
    "user_prompt7 = pd.read_csv(\"prompt7_essays.csv\", index_col=0)\n",
    "print(user_prompt7.head())\n"
   ]
  },
  {
   "attachments": {},
   "cell_type": "markdown",
   "metadata": {},
   "source": [
    "Note: We have 1730 prompt 7 essays with average of 250 words."
   ]
  },
  {
   "attachments": {},
   "cell_type": "markdown",
   "metadata": {},
   "source": [
    "## Data Cleaning"
   ]
  },
  {
   "cell_type": "code",
   "execution_count": 95,
   "metadata": {},
   "outputs": [
    {
     "data": {
      "text/html": [
       "<div>\n",
       "<style scoped>\n",
       "    .dataframe tbody tr th:only-of-type {\n",
       "        vertical-align: middle;\n",
       "    }\n",
       "\n",
       "    .dataframe tbody tr th {\n",
       "        vertical-align: top;\n",
       "    }\n",
       "\n",
       "    .dataframe thead th {\n",
       "        text-align: right;\n",
       "    }\n",
       "</style>\n",
       "<table border=\"1\" class=\"dataframe\">\n",
       "  <thead>\n",
       "    <tr style=\"text-align: right;\">\n",
       "      <th></th>\n",
       "      <th>gen_essay</th>\n",
       "      <th>gen_essay_punct</th>\n",
       "    </tr>\n",
       "  </thead>\n",
       "  <tbody>\n",
       "    <tr>\n",
       "      <th>0</th>\n",
       "      <td>\\n\\n\\nI was having a really hard time with mat...</td>\n",
       "      <td>I was having a really hard time with math but ...</td>\n",
       "    </tr>\n",
       "    <tr>\n",
       "      <th>1</th>\n",
       "      <td>\\n\\nMy mom is always so patient with me. We go...</td>\n",
       "      <td>My mom is always so patient with me We go thro...</td>\n",
       "    </tr>\n",
       "    <tr>\n",
       "      <th>2</th>\n",
       "      <td>\\n\\n\\nPatience is one of the most important th...</td>\n",
       "      <td>Patience is one of the most important things y...</td>\n",
       "    </tr>\n",
       "    <tr>\n",
       "      <th>3</th>\n",
       "      <td>\\n\\nA woman was at the doctor's office for her...</td>\n",
       "      <td>A woman was at the doctors office for her annu...</td>\n",
       "    </tr>\n",
       "    <tr>\n",
       "      <th>4</th>\n",
       "      <td>\\n\\nPatience is a virtue that is often times d...</td>\n",
       "      <td>Patience is a virtue that is often times diffi...</td>\n",
       "    </tr>\n",
       "  </tbody>\n",
       "</table>\n",
       "</div>"
      ],
      "text/plain": [
       "                                           gen_essay  \\\n",
       "0  \\n\\n\\nI was having a really hard time with mat...   \n",
       "1  \\n\\nMy mom is always so patient with me. We go...   \n",
       "2  \\n\\n\\nPatience is one of the most important th...   \n",
       "3  \\n\\nA woman was at the doctor's office for her...   \n",
       "4  \\n\\nPatience is a virtue that is often times d...   \n",
       "\n",
       "                                     gen_essay_punct  \n",
       "0  I was having a really hard time with math but ...  \n",
       "1  My mom is always so patient with me We go thro...  \n",
       "2  Patience is one of the most important things y...  \n",
       "3  A woman was at the doctors office for her annu...  \n",
       "4  Patience is a virtue that is often times diffi...  "
      ]
     },
     "execution_count": 95,
     "metadata": {},
     "output_type": "execute_result"
    }
   ],
   "source": [
    "def remove_punctuation(text):\n",
    "    # Removes punctuation and newlines from sentences.\n",
    "    no_punct = [words for words in text if words not in string.punctuation]\n",
    "    words_wo_punct = ''.join(no_punct)\n",
    "    words_wo_punct = str.strip(words_wo_punct)\n",
    "    return words_wo_punct\n",
    "\n",
    "user_prompt7['gen_essay_punct'] = user_prompt7['gen_essay'].apply(lambda x: remove_punctuation(x))\n",
    "user_prompt7.head()"
   ]
  },
  {
   "cell_type": "code",
   "execution_count": 96,
   "metadata": {},
   "outputs": [
    {
     "data": {
      "text/html": [
       "<div>\n",
       "<style scoped>\n",
       "    .dataframe tbody tr th:only-of-type {\n",
       "        vertical-align: middle;\n",
       "    }\n",
       "\n",
       "    .dataframe tbody tr th {\n",
       "        vertical-align: top;\n",
       "    }\n",
       "\n",
       "    .dataframe thead th {\n",
       "        text-align: right;\n",
       "    }\n",
       "</style>\n",
       "<table border=\"1\" class=\"dataframe\">\n",
       "  <thead>\n",
       "    <tr style=\"text-align: right;\">\n",
       "      <th></th>\n",
       "      <th>gen_essay_punct</th>\n",
       "      <th>gen_essay_tokenize</th>\n",
       "    </tr>\n",
       "  </thead>\n",
       "  <tbody>\n",
       "    <tr>\n",
       "      <th>0</th>\n",
       "      <td>I was having a really hard time with math but ...</td>\n",
       "      <td>[i, was, having, a, really, hard, time, with, ...</td>\n",
       "    </tr>\n",
       "    <tr>\n",
       "      <th>1</th>\n",
       "      <td>My mom is always so patient with me We go thro...</td>\n",
       "      <td>[my, mom, is, always, so, patient, with, me, w...</td>\n",
       "    </tr>\n",
       "    <tr>\n",
       "      <th>2</th>\n",
       "      <td>Patience is one of the most important things y...</td>\n",
       "      <td>[patience, is, one, of, the, most, important, ...</td>\n",
       "    </tr>\n",
       "    <tr>\n",
       "      <th>3</th>\n",
       "      <td>A woman was at the doctors office for her annu...</td>\n",
       "      <td>[a, woman, was, at, the, doctors, office, for,...</td>\n",
       "    </tr>\n",
       "    <tr>\n",
       "      <th>4</th>\n",
       "      <td>Patience is a virtue that is often times diffi...</td>\n",
       "      <td>[patience, is, a, virtue, that, is, often, tim...</td>\n",
       "    </tr>\n",
       "  </tbody>\n",
       "</table>\n",
       "</div>"
      ],
      "text/plain": [
       "                                     gen_essay_punct  \\\n",
       "0  I was having a really hard time with math but ...   \n",
       "1  My mom is always so patient with me We go thro...   \n",
       "2  Patience is one of the most important things y...   \n",
       "3  A woman was at the doctors office for her annu...   \n",
       "4  Patience is a virtue that is often times diffi...   \n",
       "\n",
       "                                  gen_essay_tokenize  \n",
       "0  [i, was, having, a, really, hard, time, with, ...  \n",
       "1  [my, mom, is, always, so, patient, with, me, w...  \n",
       "2  [patience, is, one, of, the, most, important, ...  \n",
       "3  [a, woman, was, at, the, doctors, office, for,...  \n",
       "4  [patience, is, a, virtue, that, is, often, tim...  "
      ]
     },
     "execution_count": 96,
     "metadata": {},
     "output_type": "execute_result"
    }
   ],
   "source": [
    "def tokenize(text):\n",
    "    # Split a string into words using regular expressions\n",
    "    # The \\W+ splits on one or more nonword character\n",
    "    split = re.split(\"\\W+\",text) \n",
    "    return split\n",
    "user_prompt7['gen_essay_tokenize'] = user_prompt7['gen_essay_punct'].apply(lambda x: tokenize(x.lower()))\n",
    "user_prompt7.iloc[:, 1:].head()"
   ]
  },
  {
   "cell_type": "code",
   "execution_count": 97,
   "metadata": {},
   "outputs": [
    {
     "name": "stdout",
     "output_type": "stream",
     "text": [
      "['i', 'me', 'my', 'myself', 'we', 'our', 'ours', 'ourselves', 'you', \"you're\"]\n"
     ]
    }
   ],
   "source": [
    "# Take a look at first 10 frequent stop words in English\n",
    "print(stop_words[:10])"
   ]
  },
  {
   "cell_type": "code",
   "execution_count": 98,
   "metadata": {},
   "outputs": [
    {
     "data": {
      "text/html": [
       "<div>\n",
       "<style scoped>\n",
       "    .dataframe tbody tr th:only-of-type {\n",
       "        vertical-align: middle;\n",
       "    }\n",
       "\n",
       "    .dataframe tbody tr th {\n",
       "        vertical-align: top;\n",
       "    }\n",
       "\n",
       "    .dataframe thead th {\n",
       "        text-align: right;\n",
       "    }\n",
       "</style>\n",
       "<table border=\"1\" class=\"dataframe\">\n",
       "  <thead>\n",
       "    <tr style=\"text-align: right;\">\n",
       "      <th></th>\n",
       "      <th>gen_essay_tokenize</th>\n",
       "      <th>gen_essay_wo_stopwords</th>\n",
       "    </tr>\n",
       "  </thead>\n",
       "  <tbody>\n",
       "    <tr>\n",
       "      <th>0</th>\n",
       "      <td>[i, was, having, a, really, hard, time, with, ...</td>\n",
       "      <td>[really, hard, time, math, teacher, told, us, ...</td>\n",
       "    </tr>\n",
       "    <tr>\n",
       "      <th>1</th>\n",
       "      <td>[my, mom, is, always, so, patient, with, me, w...</td>\n",
       "      <td>[mom, always, patient, go, many, trials, tribu...</td>\n",
       "    </tr>\n",
       "    <tr>\n",
       "      <th>2</th>\n",
       "      <td>[patience, is, one, of, the, most, important, ...</td>\n",
       "      <td>[patience, one, important, things, life, wheth...</td>\n",
       "    </tr>\n",
       "    <tr>\n",
       "      <th>3</th>\n",
       "      <td>[a, woman, was, at, the, doctors, office, for,...</td>\n",
       "      <td>[woman, doctors, office, annual, checkup, doct...</td>\n",
       "    </tr>\n",
       "    <tr>\n",
       "      <th>4</th>\n",
       "      <td>[patience, is, a, virtue, that, is, often, tim...</td>\n",
       "      <td>[patience, virtue, often, times, difficult, fi...</td>\n",
       "    </tr>\n",
       "  </tbody>\n",
       "</table>\n",
       "</div>"
      ],
      "text/plain": [
       "                                  gen_essay_tokenize  \\\n",
       "0  [i, was, having, a, really, hard, time, with, ...   \n",
       "1  [my, mom, is, always, so, patient, with, me, w...   \n",
       "2  [patience, is, one, of, the, most, important, ...   \n",
       "3  [a, woman, was, at, the, doctors, office, for,...   \n",
       "4  [patience, is, a, virtue, that, is, often, tim...   \n",
       "\n",
       "                              gen_essay_wo_stopwords  \n",
       "0  [really, hard, time, math, teacher, told, us, ...  \n",
       "1  [mom, always, patient, go, many, trials, tribu...  \n",
       "2  [patience, one, important, things, life, wheth...  \n",
       "3  [woman, doctors, office, annual, checkup, doct...  \n",
       "4  [patience, virtue, often, times, difficult, fi...  "
      ]
     },
     "execution_count": 98,
     "metadata": {},
     "output_type": "execute_result"
    }
   ],
   "source": [
    "def remove_stopwords(text):\n",
    "    # Remove stop words in each essay\n",
    "    text = [word for word in text if word not in stop_words]\n",
    "    return text\n",
    "user_prompt7['gen_essay_wo_stopwords'] = user_prompt7['gen_essay_tokenize'].apply(lambda x: remove_stopwords(x))\n",
    "user_prompt7.iloc[:, 2:].head()"
   ]
  },
  {
   "cell_type": "code",
   "execution_count": 99,
   "metadata": {},
   "outputs": [
    {
     "data": {
      "text/html": [
       "<div>\n",
       "<style scoped>\n",
       "    .dataframe tbody tr th:only-of-type {\n",
       "        vertical-align: middle;\n",
       "    }\n",
       "\n",
       "    .dataframe tbody tr th {\n",
       "        vertical-align: top;\n",
       "    }\n",
       "\n",
       "    .dataframe thead th {\n",
       "        text-align: right;\n",
       "    }\n",
       "</style>\n",
       "<table border=\"1\" class=\"dataframe\">\n",
       "  <thead>\n",
       "    <tr style=\"text-align: right;\">\n",
       "      <th></th>\n",
       "      <th>gen_essay_wo_stopwords</th>\n",
       "      <th>gen_essay_lemmatized</th>\n",
       "    </tr>\n",
       "  </thead>\n",
       "  <tbody>\n",
       "    <tr>\n",
       "      <th>0</th>\n",
       "      <td>[really, hard, time, math, teacher, told, us, ...</td>\n",
       "      <td>[really, hard, time, math, teacher, told, u, w...</td>\n",
       "    </tr>\n",
       "    <tr>\n",
       "      <th>1</th>\n",
       "      <td>[mom, always, patient, go, many, trials, tribu...</td>\n",
       "      <td>[mom, always, patient, go, many, trial, tribul...</td>\n",
       "    </tr>\n",
       "    <tr>\n",
       "      <th>2</th>\n",
       "      <td>[patience, one, important, things, life, wheth...</td>\n",
       "      <td>[patience, one, important, thing, life, whethe...</td>\n",
       "    </tr>\n",
       "    <tr>\n",
       "      <th>3</th>\n",
       "      <td>[woman, doctors, office, annual, checkup, doct...</td>\n",
       "      <td>[woman, doctor, office, annual, checkup, docto...</td>\n",
       "    </tr>\n",
       "    <tr>\n",
       "      <th>4</th>\n",
       "      <td>[patience, virtue, often, times, difficult, fi...</td>\n",
       "      <td>[patience, virtue, often, time, difficult, fin...</td>\n",
       "    </tr>\n",
       "  </tbody>\n",
       "</table>\n",
       "</div>"
      ],
      "text/plain": [
       "                              gen_essay_wo_stopwords  \\\n",
       "0  [really, hard, time, math, teacher, told, us, ...   \n",
       "1  [mom, always, patient, go, many, trials, tribu...   \n",
       "2  [patience, one, important, things, life, wheth...   \n",
       "3  [woman, doctors, office, annual, checkup, doct...   \n",
       "4  [patience, virtue, often, times, difficult, fi...   \n",
       "\n",
       "                                gen_essay_lemmatized  \n",
       "0  [really, hard, time, math, teacher, told, u, w...  \n",
       "1  [mom, always, patient, go, many, trial, tribul...  \n",
       "2  [patience, one, important, thing, life, whethe...  \n",
       "3  [woman, doctor, office, annual, checkup, docto...  \n",
       "4  [patience, virtue, often, time, difficult, fin...  "
      ]
     },
     "execution_count": 99,
     "metadata": {},
     "output_type": "execute_result"
    }
   ],
   "source": [
    "lemmatizer = WordNetLemmatizer()\n",
    "def lemmatization(text):\n",
    "    # Find the root of word using lemmatization (by dictionary definition)\n",
    "    # This takes into account the context of word used\n",
    "    text = [lemmatizer.lemmatize(word) for word in text]\n",
    "    return text\n",
    "user_prompt7['gen_essay_lemmatized'] = user_prompt7['gen_essay_wo_stopwords'].apply(lambda x: lemmatization(x))\n",
    "user_prompt7.iloc[:, 3:].head()"
   ]
  },
  {
   "cell_type": "code",
   "execution_count": 100,
   "metadata": {},
   "outputs": [
    {
     "data": {
      "text/html": [
       "<div>\n",
       "<style scoped>\n",
       "    .dataframe tbody tr th:only-of-type {\n",
       "        vertical-align: middle;\n",
       "    }\n",
       "\n",
       "    .dataframe tbody tr th {\n",
       "        vertical-align: top;\n",
       "    }\n",
       "\n",
       "    .dataframe thead th {\n",
       "        text-align: right;\n",
       "    }\n",
       "</style>\n",
       "<table border=\"1\" class=\"dataframe\">\n",
       "  <thead>\n",
       "    <tr style=\"text-align: right;\">\n",
       "      <th></th>\n",
       "      <th>gen_essay_lemmatized</th>\n",
       "      <th>gen_essay_stemmed</th>\n",
       "    </tr>\n",
       "  </thead>\n",
       "  <tbody>\n",
       "    <tr>\n",
       "      <th>0</th>\n",
       "      <td>[really, hard, time, math, teacher, told, u, w...</td>\n",
       "      <td>[realli, hard, time, math, teacher, told, us, ...</td>\n",
       "    </tr>\n",
       "    <tr>\n",
       "      <th>1</th>\n",
       "      <td>[mom, always, patient, go, many, trial, tribul...</td>\n",
       "      <td>[mom, alway, patient, go, mani, trial, tribul,...</td>\n",
       "    </tr>\n",
       "    <tr>\n",
       "      <th>2</th>\n",
       "      <td>[patience, one, important, thing, life, whethe...</td>\n",
       "      <td>[patienc, one, import, thing, life, whether, p...</td>\n",
       "    </tr>\n",
       "    <tr>\n",
       "      <th>3</th>\n",
       "      <td>[woman, doctor, office, annual, checkup, docto...</td>\n",
       "      <td>[woman, doctor, offic, annual, checkup, doctor...</td>\n",
       "    </tr>\n",
       "    <tr>\n",
       "      <th>4</th>\n",
       "      <td>[patience, virtue, often, time, difficult, fin...</td>\n",
       "      <td>[patienc, virtu, often, time, difficult, find,...</td>\n",
       "    </tr>\n",
       "  </tbody>\n",
       "</table>\n",
       "</div>"
      ],
      "text/plain": [
       "                                gen_essay_lemmatized  \\\n",
       "0  [really, hard, time, math, teacher, told, u, w...   \n",
       "1  [mom, always, patient, go, many, trial, tribul...   \n",
       "2  [patience, one, important, thing, life, whethe...   \n",
       "3  [woman, doctor, office, annual, checkup, docto...   \n",
       "4  [patience, virtue, often, time, difficult, fin...   \n",
       "\n",
       "                                   gen_essay_stemmed  \n",
       "0  [realli, hard, time, math, teacher, told, us, ...  \n",
       "1  [mom, alway, patient, go, mani, trial, tribul,...  \n",
       "2  [patienc, one, import, thing, life, whether, p...  \n",
       "3  [woman, doctor, offic, annual, checkup, doctor...  \n",
       "4  [patienc, virtu, often, time, difficult, find,...  "
      ]
     },
     "execution_count": 100,
     "metadata": {},
     "output_type": "execute_result"
    }
   ],
   "source": [
    "ps = PorterStemmer()\n",
    "def stemming(text):\n",
    "    # Find root word by stemming (leads to less words than lemming)\n",
    "    # This can chop off end of some words\n",
    "    text = [ps.stem(word) for word in text]\n",
    "    return text\n",
    "user_prompt7['gen_essay_stemmed'] = user_prompt7['gen_essay_wo_stopwords'].apply(lambda x: stemming(x))\n",
    "user_prompt7.iloc[:, 4:].head()  "
   ]
  },
  {
   "cell_type": "code",
   "execution_count": 101,
   "metadata": {},
   "outputs": [
    {
     "data": {
      "text/html": [
       "<div>\n",
       "<style scoped>\n",
       "    .dataframe tbody tr th:only-of-type {\n",
       "        vertical-align: middle;\n",
       "    }\n",
       "\n",
       "    .dataframe tbody tr th {\n",
       "        vertical-align: top;\n",
       "    }\n",
       "\n",
       "    .dataframe thead th {\n",
       "        text-align: right;\n",
       "    }\n",
       "</style>\n",
       "<table border=\"1\" class=\"dataframe\">\n",
       "  <thead>\n",
       "    <tr style=\"text-align: right;\">\n",
       "      <th></th>\n",
       "      <th>gen_essay</th>\n",
       "      <th>gen_essay_punct</th>\n",
       "      <th>gen_essay_tokenize</th>\n",
       "      <th>gen_essay_wo_stopwords</th>\n",
       "      <th>gen_essay_lemmatized</th>\n",
       "      <th>gen_essay_stemmed</th>\n",
       "    </tr>\n",
       "  </thead>\n",
       "  <tbody>\n",
       "    <tr>\n",
       "      <th>0</th>\n",
       "      <td>\\n\\n\\nI was having a really hard time with mat...</td>\n",
       "      <td>I was having a really hard time with math but ...</td>\n",
       "      <td>[i, was, having, a, really, hard, time, with, ...</td>\n",
       "      <td>[really, hard, time, math, teacher, told, us, ...</td>\n",
       "      <td>[really, hard, time, math, teacher, told, u, w...</td>\n",
       "      <td>[realli, hard, time, math, teacher, told, us, ...</td>\n",
       "    </tr>\n",
       "    <tr>\n",
       "      <th>1</th>\n",
       "      <td>\\n\\nMy mom is always so patient with me. We go...</td>\n",
       "      <td>My mom is always so patient with me We go thro...</td>\n",
       "      <td>[my, mom, is, always, so, patient, with, me, w...</td>\n",
       "      <td>[mom, always, patient, go, many, trials, tribu...</td>\n",
       "      <td>[mom, always, patient, go, many, trial, tribul...</td>\n",
       "      <td>[mom, alway, patient, go, mani, trial, tribul,...</td>\n",
       "    </tr>\n",
       "    <tr>\n",
       "      <th>2</th>\n",
       "      <td>\\n\\n\\nPatience is one of the most important th...</td>\n",
       "      <td>Patience is one of the most important things y...</td>\n",
       "      <td>[patience, is, one, of, the, most, important, ...</td>\n",
       "      <td>[patience, one, important, things, life, wheth...</td>\n",
       "      <td>[patience, one, important, thing, life, whethe...</td>\n",
       "      <td>[patienc, one, import, thing, life, whether, p...</td>\n",
       "    </tr>\n",
       "    <tr>\n",
       "      <th>3</th>\n",
       "      <td>\\n\\nA woman was at the doctor's office for her...</td>\n",
       "      <td>A woman was at the doctors office for her annu...</td>\n",
       "      <td>[a, woman, was, at, the, doctors, office, for,...</td>\n",
       "      <td>[woman, doctors, office, annual, checkup, doct...</td>\n",
       "      <td>[woman, doctor, office, annual, checkup, docto...</td>\n",
       "      <td>[woman, doctor, offic, annual, checkup, doctor...</td>\n",
       "    </tr>\n",
       "    <tr>\n",
       "      <th>4</th>\n",
       "      <td>\\n\\nPatience is a virtue that is often times d...</td>\n",
       "      <td>Patience is a virtue that is often times diffi...</td>\n",
       "      <td>[patience, is, a, virtue, that, is, often, tim...</td>\n",
       "      <td>[patience, virtue, often, times, difficult, fi...</td>\n",
       "      <td>[patience, virtue, often, time, difficult, fin...</td>\n",
       "      <td>[patienc, virtu, often, time, difficult, find,...</td>\n",
       "    </tr>\n",
       "  </tbody>\n",
       "</table>\n",
       "</div>"
      ],
      "text/plain": [
       "                                           gen_essay  \\\n",
       "0  \\n\\n\\nI was having a really hard time with mat...   \n",
       "1  \\n\\nMy mom is always so patient with me. We go...   \n",
       "2  \\n\\n\\nPatience is one of the most important th...   \n",
       "3  \\n\\nA woman was at the doctor's office for her...   \n",
       "4  \\n\\nPatience is a virtue that is often times d...   \n",
       "\n",
       "                                     gen_essay_punct  \\\n",
       "0  I was having a really hard time with math but ...   \n",
       "1  My mom is always so patient with me We go thro...   \n",
       "2  Patience is one of the most important things y...   \n",
       "3  A woman was at the doctors office for her annu...   \n",
       "4  Patience is a virtue that is often times diffi...   \n",
       "\n",
       "                                  gen_essay_tokenize  \\\n",
       "0  [i, was, having, a, really, hard, time, with, ...   \n",
       "1  [my, mom, is, always, so, patient, with, me, w...   \n",
       "2  [patience, is, one, of, the, most, important, ...   \n",
       "3  [a, woman, was, at, the, doctors, office, for,...   \n",
       "4  [patience, is, a, virtue, that, is, often, tim...   \n",
       "\n",
       "                              gen_essay_wo_stopwords  \\\n",
       "0  [really, hard, time, math, teacher, told, us, ...   \n",
       "1  [mom, always, patient, go, many, trials, tribu...   \n",
       "2  [patience, one, important, things, life, wheth...   \n",
       "3  [woman, doctors, office, annual, checkup, doct...   \n",
       "4  [patience, virtue, often, times, difficult, fi...   \n",
       "\n",
       "                                gen_essay_lemmatized  \\\n",
       "0  [really, hard, time, math, teacher, told, u, w...   \n",
       "1  [mom, always, patient, go, many, trial, tribul...   \n",
       "2  [patience, one, important, thing, life, whethe...   \n",
       "3  [woman, doctor, office, annual, checkup, docto...   \n",
       "4  [patience, virtue, often, time, difficult, fin...   \n",
       "\n",
       "                                   gen_essay_stemmed  \n",
       "0  [realli, hard, time, math, teacher, told, us, ...  \n",
       "1  [mom, alway, patient, go, mani, trial, tribul,...  \n",
       "2  [patienc, one, import, thing, life, whether, p...  \n",
       "3  [woman, doctor, offic, annual, checkup, doctor...  \n",
       "4  [patienc, virtu, often, time, difficult, find,...  "
      ]
     },
     "execution_count": 101,
     "metadata": {},
     "output_type": "execute_result"
    }
   ],
   "source": [
    "user_prompt7.head()"
   ]
  },
  {
   "attachments": {},
   "cell_type": "markdown",
   "metadata": {},
   "source": [
    "## Adding Numeric Columns"
   ]
  },
  {
   "cell_type": "code",
   "execution_count": 102,
   "metadata": {},
   "outputs": [],
   "source": [
    "# # Counting punctuation in essays\n",
    "# user_prompt7[\"punctuation_count\"] = user_prompt7[\"gen_essay\"].apply(lambda x: len([c for c in str(x) if c in string.punctuation]))"
   ]
  },
  {
   "cell_type": "code",
   "execution_count": 103,
   "metadata": {},
   "outputs": [],
   "source": [
    "# # Counting characters in essays\n",
    "# user_prompt7[\"char_count\"] = user_prompt7[\"gen_essay_punct\"].apply(lambda x: len(str(x)))"
   ]
  },
  {
   "attachments": {},
   "cell_type": "markdown",
   "metadata": {},
   "source": [
    "## Visualizing Words"
   ]
  },
  {
   "cell_type": "code",
   "execution_count": 104,
   "metadata": {},
   "outputs": [
    {
     "name": "stderr",
     "output_type": "stream",
     "text": [
      "/var/folders/cp/xbqnk_qx2175bw128m89spk00000gp/T/ipykernel_30425/3088459410.py:9: UserWarning: Matplotlib is currently using module://matplotlib_inline.backend_inline, which is a non-GUI backend, so cannot show the figure.\n",
      "  fig.show()\n"
     ]
    },
    {
     "data": {
      "image/png": "[encoded data removed]",
      "text/plain": [
       "<Figure size 640x480 with 2 Axes>"
      ]
     },
     "metadata": {},
     "output_type": "display_data"
    }
   ],
   "source": [
    "# Comparing length of Raw VS Clean Essays\n",
    "fig, ax = plt.subplots(1,2)\n",
    "sns.histplot(user_prompt7['gen_essay'].str.len(), ax=ax[0])\n",
    "sns.histplot(user_prompt7['gen_essay_wo_stopwords'].str.len(), ax=ax[1])\n",
    "[x.set(xlabel=None, ylabel=None) for x in ax]\n",
    "fig.supxlabel(\"Word Count\")\n",
    "fig.supylabel(\"Essay Count\")\n",
    "fig.suptitle(\"Comparing Raw VS Cleaned Essay Word Counts\")\n",
    "fig.show()"
   ]
  },
  {
   "attachments": {},
   "cell_type": "markdown",
   "metadata": {},
   "source": [
    "### Average Words Per Essay"
   ]
  },
  {
   "cell_type": "code",
   "execution_count": 105,
   "metadata": {},
   "outputs": [
    {
     "name": "stdout",
     "output_type": "stream",
     "text": [
      "Average Number of Words in Essays: 616.1764705882352 words\n",
      "Average Number of Words in Essays Without Stopwords: 53.38235294117647 words\n"
     ]
    }
   ],
   "source": [
    "print(\"Average Number of Words in Essays: {} words\".format(np.mean([len(row) for row in user_prompt7[\"gen_essay\"]])))\n",
    "print(\"Average Number of Words in Essays Without Stopwords: {} words\".format(np.mean([len(row) for row in user_prompt7[\"gen_essay_wo_stopwords\"]])))"
   ]
  },
  {
   "attachments": {},
   "cell_type": "markdown",
   "metadata": {},
   "source": [
    "### Lemmatized VS Stemmed Word Counts"
   ]
  },
  {
   "cell_type": "code",
   "execution_count": 106,
   "metadata": {},
   "outputs": [
    {
     "name": "stderr",
     "output_type": "stream",
     "text": [
      "/var/folders/cp/xbqnk_qx2175bw128m89spk00000gp/T/ipykernel_30425/1564392091.py:12: UserWarning: Matplotlib is currently using module://matplotlib_inline.backend_inline, which is a non-GUI backend, so cannot show the figure.\n",
      "  fig.show()\n"
     ]
    },
    {
     "data": {
      "image/png": "[encoded data removed]",
      "text/plain": [
       "<Figure size 640x480 with 2 Axes>"
      ]
     },
     "metadata": {},
     "output_type": "display_data"
    }
   ],
   "source": [
    "# Use explode to expand the lists into separate rows\n",
    "temp_lemm = user_prompt7[\"gen_essay_lemmatized\"].explode().to_frame().reset_index(drop=True)\n",
    "temp_stem = user_prompt7[\"gen_essay_stemmed\"].explode().to_frame().reset_index(drop=True)\n",
    "\n",
    "fig, ax = plt.subplots(1,2)\n",
    "sns.countplot(x=\"gen_essay_lemmatized\", data=temp_lemm, order=temp_lemm[\"gen_essay_lemmatized\"].value_counts().iloc[:10].index, ax=ax[0])\n",
    "sns.countplot(x=\"gen_essay_stemmed\", data=temp_stem, order=temp_stem[\"gen_essay_stemmed\"].value_counts().iloc[:10].index, ax=ax[1])\n",
    "[x.set(xlabel=None, ylabel=None) for x in ax]\n",
    "[x.set_xticklabels(x.get_xticklabels(), rotation=90) for x in ax]\n",
    "fig.supylabel(\"Word Count\")\n",
    "fig.suptitle(\"Comparing Lemmatized VS Stemmed Word Counts\")\n",
    "fig.show()"
   ]
  },
  {
   "attachments": {},
   "cell_type": "markdown",
   "metadata": {},
   "source": [
    "### Total Unique Words"
   ]
  },
  {
   "cell_type": "code",
   "execution_count": 107,
   "metadata": {},
   "outputs": [
    {
     "name": "stdout",
     "output_type": "stream",
     "text": [
      "Number of Unique Words in Lemmatized Essays: 1648 words\n",
      "Number of Unique Words in Stemmed Essays: 1385 words\n"
     ]
    }
   ],
   "source": [
    "print(\"Number of Unique Words in Lemmatized Essays: {} words\".format(temp_lemm.nunique()[-1]))\n",
    "print(\"Number of Unique Words in Stemmed Essays: {} words\".format(temp_stem.nunique()[-1]))"
   ]
  },
  {
   "attachments": {},
   "cell_type": "markdown",
   "metadata": {},
   "source": [
    "### Average Words Lemmatized Stemmed"
   ]
  },
  {
   "cell_type": "code",
   "execution_count": 87,
   "metadata": {},
   "outputs": [
    {
     "name": "stdout",
     "output_type": "stream",
     "text": [
      "Average Number of Words in Lemmatized Essays: 53.38235294117647 words\n",
      "Average Number of Words in Stemmed Essays: 53.38235294117647 words\n"
     ]
    }
   ],
   "source": [
    "print(\"Average Number of Words in Lemmatized Essays: {} words\".format(np.mean([len(row) for row in user_prompt7[\"gen_essay_lemmatized\"]])))\n",
    "print(\"Average Number of Words in Stemmed Essays: {} words\".format(np.mean([len(row) for row in user_prompt7[\"gen_essay_stemmed\"]])))"
   ]
  },
  {
   "attachments": {},
   "cell_type": "markdown",
   "metadata": {},
   "source": [
    "## Cleaning Chat-GPT"
   ]
  },
  {
   "cell_type": "code",
   "execution_count": 116,
   "metadata": {},
   "outputs": [
    {
     "data": {
      "text/html": [
       "<div>\n",
       "<style scoped>\n",
       "    .dataframe tbody tr th:only-of-type {\n",
       "        vertical-align: middle;\n",
       "    }\n",
       "\n",
       "    .dataframe tbody tr th {\n",
       "        vertical-align: top;\n",
       "    }\n",
       "\n",
       "    .dataframe thead th {\n",
       "        text-align: right;\n",
       "    }\n",
       "</style>\n",
       "<table border=\"1\" class=\"dataframe\">\n",
       "  <thead>\n",
       "    <tr style=\"text-align: right;\">\n",
       "      <th></th>\n",
       "      <th>gen_essay</th>\n",
       "    </tr>\n",
       "  </thead>\n",
       "  <tbody>\n",
       "    <tr>\n",
       "      <th>0</th>\n",
       "      <td>\\n\\n\\nI was having a really hard time with mat...</td>\n",
       "    </tr>\n",
       "    <tr>\n",
       "      <th>1</th>\n",
       "      <td>\\n\\nMy mom is always so patient with me. We go...</td>\n",
       "    </tr>\n",
       "    <tr>\n",
       "      <th>2</th>\n",
       "      <td>\\n\\n\\nPatience is one of the most important th...</td>\n",
       "    </tr>\n",
       "    <tr>\n",
       "      <th>3</th>\n",
       "      <td>\\n\\nA woman was at the doctor's office for her...</td>\n",
       "    </tr>\n",
       "    <tr>\n",
       "      <th>4</th>\n",
       "      <td>\\n\\nPatience is a virtue that is often times d...</td>\n",
       "    </tr>\n",
       "  </tbody>\n",
       "</table>\n",
       "</div>"
      ],
      "text/plain": [
       "                                           gen_essay\n",
       "0  \\n\\n\\nI was having a really hard time with mat...\n",
       "1  \\n\\nMy mom is always so patient with me. We go...\n",
       "2  \\n\\n\\nPatience is one of the most important th...\n",
       "3  \\n\\nA woman was at the doctor's office for her...\n",
       "4  \\n\\nPatience is a virtue that is often times d..."
      ]
     },
     "execution_count": 116,
     "metadata": {},
     "output_type": "execute_result"
    }
   ],
   "source": [
    "chatgpt_prompt7 = pd.read_csv(\"../../u-integrity/data/chatgpt_prompt7_essays.csv\", index_col=0)\n",
    "chatgpt_prompt7.head()"
   ]
  },
  {
   "cell_type": "code",
   "execution_count": 117,
   "metadata": {},
   "outputs": [],
   "source": [
    "chatgpt_prompt7['gen_essay_punct'] = chatgpt_prompt7['gen_essay'].apply(lambda x: remove_punctuation(x))\n",
    "chatgpt_prompt7['gen_essay_tokenize'] = chatgpt_prompt7['gen_essay_punct'].apply(lambda x: tokenize(x.lower()))\n",
    "chatgpt_prompt7['gen_essay_wo_stopwords'] = chatgpt_prompt7['gen_essay_tokenize'].apply(lambda x: remove_stopwords(x))\n",
    "chatgpt_prompt7['gen_essay_lemmatized'] = chatgpt_prompt7['gen_essay_wo_stopwords'].apply(lambda x: lemmatization(x))\n",
    "chatgpt_prompt7['gen_essay_stemmed'] = chatgpt_prompt7['gen_essay_wo_stopwords'].apply(lambda x: stemming(x))"
   ]
  },
  {
   "cell_type": "code",
   "execution_count": 118,
   "metadata": {},
   "outputs": [
    {
     "data": {
      "text/html": [
       "<div>\n",
       "<style scoped>\n",
       "    .dataframe tbody tr th:only-of-type {\n",
       "        vertical-align: middle;\n",
       "    }\n",
       "\n",
       "    .dataframe tbody tr th {\n",
       "        vertical-align: top;\n",
       "    }\n",
       "\n",
       "    .dataframe thead th {\n",
       "        text-align: right;\n",
       "    }\n",
       "</style>\n",
       "<table border=\"1\" class=\"dataframe\">\n",
       "  <thead>\n",
       "    <tr style=\"text-align: right;\">\n",
       "      <th></th>\n",
       "      <th>gen_essay</th>\n",
       "      <th>gen_essay_punct</th>\n",
       "      <th>gen_essay_tokenize</th>\n",
       "      <th>gen_essay_wo_stopwords</th>\n",
       "      <th>gen_essay_lemmatized</th>\n",
       "      <th>gen_essay_stemmed</th>\n",
       "    </tr>\n",
       "  </thead>\n",
       "  <tbody>\n",
       "    <tr>\n",
       "      <th>0</th>\n",
       "      <td>\\n\\n\\nI was having a really hard time with mat...</td>\n",
       "      <td>I was having a really hard time with math but ...</td>\n",
       "      <td>[i, was, having, a, really, hard, time, with, ...</td>\n",
       "      <td>[really, hard, time, math, teacher, told, us, ...</td>\n",
       "      <td>[really, hard, time, math, teacher, told, u, w...</td>\n",
       "      <td>[realli, hard, time, math, teacher, told, us, ...</td>\n",
       "    </tr>\n",
       "    <tr>\n",
       "      <th>1</th>\n",
       "      <td>\\n\\nMy mom is always so patient with me. We go...</td>\n",
       "      <td>My mom is always so patient with me We go thro...</td>\n",
       "      <td>[my, mom, is, always, so, patient, with, me, w...</td>\n",
       "      <td>[mom, always, patient, go, many, trials, tribu...</td>\n",
       "      <td>[mom, always, patient, go, many, trial, tribul...</td>\n",
       "      <td>[mom, alway, patient, go, mani, trial, tribul,...</td>\n",
       "    </tr>\n",
       "    <tr>\n",
       "      <th>2</th>\n",
       "      <td>\\n\\n\\nPatience is one of the most important th...</td>\n",
       "      <td>Patience is one of the most important things y...</td>\n",
       "      <td>[patience, is, one, of, the, most, important, ...</td>\n",
       "      <td>[patience, one, important, things, life, wheth...</td>\n",
       "      <td>[patience, one, important, thing, life, whethe...</td>\n",
       "      <td>[patienc, one, import, thing, life, whether, p...</td>\n",
       "    </tr>\n",
       "    <tr>\n",
       "      <th>3</th>\n",
       "      <td>\\n\\nA woman was at the doctor's office for her...</td>\n",
       "      <td>A woman was at the doctors office for her annu...</td>\n",
       "      <td>[a, woman, was, at, the, doctors, office, for,...</td>\n",
       "      <td>[woman, doctors, office, annual, checkup, doct...</td>\n",
       "      <td>[woman, doctor, office, annual, checkup, docto...</td>\n",
       "      <td>[woman, doctor, offic, annual, checkup, doctor...</td>\n",
       "    </tr>\n",
       "    <tr>\n",
       "      <th>4</th>\n",
       "      <td>\\n\\nPatience is a virtue that is often times d...</td>\n",
       "      <td>Patience is a virtue that is often times diffi...</td>\n",
       "      <td>[patience, is, a, virtue, that, is, often, tim...</td>\n",
       "      <td>[patience, virtue, often, times, difficult, fi...</td>\n",
       "      <td>[patience, virtue, often, time, difficult, fin...</td>\n",
       "      <td>[patienc, virtu, often, time, difficult, find,...</td>\n",
       "    </tr>\n",
       "  </tbody>\n",
       "</table>\n",
       "</div>"
      ],
      "text/plain": [
       "                                           gen_essay  \\\n",
       "0  \\n\\n\\nI was having a really hard time with mat...   \n",
       "1  \\n\\nMy mom is always so patient with me. We go...   \n",
       "2  \\n\\n\\nPatience is one of the most important th...   \n",
       "3  \\n\\nA woman was at the doctor's office for her...   \n",
       "4  \\n\\nPatience is a virtue that is often times d...   \n",
       "\n",
       "                                     gen_essay_punct  \\\n",
       "0  I was having a really hard time with math but ...   \n",
       "1  My mom is always so patient with me We go thro...   \n",
       "2  Patience is one of the most important things y...   \n",
       "3  A woman was at the doctors office for her annu...   \n",
       "4  Patience is a virtue that is often times diffi...   \n",
       "\n",
       "                                  gen_essay_tokenize  \\\n",
       "0  [i, was, having, a, really, hard, time, with, ...   \n",
       "1  [my, mom, is, always, so, patient, with, me, w...   \n",
       "2  [patience, is, one, of, the, most, important, ...   \n",
       "3  [a, woman, was, at, the, doctors, office, for,...   \n",
       "4  [patience, is, a, virtue, that, is, often, tim...   \n",
       "\n",
       "                              gen_essay_wo_stopwords  \\\n",
       "0  [really, hard, time, math, teacher, told, us, ...   \n",
       "1  [mom, always, patient, go, many, trials, tribu...   \n",
       "2  [patience, one, important, things, life, wheth...   \n",
       "3  [woman, doctors, office, annual, checkup, doct...   \n",
       "4  [patience, virtue, often, times, difficult, fi...   \n",
       "\n",
       "                                gen_essay_lemmatized  \\\n",
       "0  [really, hard, time, math, teacher, told, u, w...   \n",
       "1  [mom, always, patient, go, many, trial, tribul...   \n",
       "2  [patience, one, important, thing, life, whethe...   \n",
       "3  [woman, doctor, office, annual, checkup, docto...   \n",
       "4  [patience, virtue, often, time, difficult, fin...   \n",
       "\n",
       "                                   gen_essay_stemmed  \n",
       "0  [realli, hard, time, math, teacher, told, us, ...  \n",
       "1  [mom, alway, patient, go, mani, trial, tribul,...  \n",
       "2  [patienc, one, import, thing, life, whether, p...  \n",
       "3  [woman, doctor, offic, annual, checkup, doctor...  \n",
       "4  [patienc, virtu, often, time, difficult, find,...  "
      ]
     },
     "execution_count": 118,
     "metadata": {},
     "output_type": "execute_result"
    }
   ],
   "source": [
    "chatgpt_prompt7.head()"
   ]
  },
  {
   "cell_type": "code",
   "execution_count": 119,
   "metadata": {},
   "outputs": [],
   "source": [
    "chatgpt_prompt7.to_csv(\"cleaned_chatgpt_essay_set_7.csv\")"
   ]
  },
  {
   "cell_type": "code",
   "execution_count": 120,
   "metadata": {},
   "outputs": [],
   "source": [
    "user_prompt7.to_csv(\"cleaned_kaggle_essay_set_7.csv\")"
   ]
  }
 ],
 "metadata": {
  "kernelspec": {
   "display_name": "Python 3",
   "language": "python",
   "name": "python3"
  },
  "language_info": {
   "codemirror_mode": {
    "name": "ipython",
    "version": 3
   },
   "file_extension": ".py",
   "mimetype": "text/x-python",
   "name": "python",
   "nbconvert_exporter": "python",
   "pygments_lexer": "ipython3",
   "version": "3.11.0"
  },
  "orig_nbformat": 4
 },
 "nbformat": 4,
 "nbformat_minor": 2
}
