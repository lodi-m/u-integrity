{
 "cells": [
  {
   "cell_type": "code",
   "execution_count": 41,
   "metadata": {},
   "outputs": [
    {
     "name": "stderr",
     "output_type": "stream",
     "text": [
      "[nltk_data] Downloading package stopwords to\n",
      "[nltk_data]     C:\\Users\\katyc\\AppData\\Roaming\\nltk_data...\n",
      "[nltk_data]   Package stopwords is already up-to-date!\n",
      "[nltk_data] Downloading package wordnet to\n",
      "[nltk_data]     C:\\Users\\katyc\\AppData\\Roaming\\nltk_data...\n",
      "[nltk_data]   Package wordnet is already up-to-date!\n"
     ]
    },
    {
     "data": {
      "text/plain": [
       "True"
      ]
     },
     "execution_count": 41,
     "metadata": {},
     "output_type": "execute_result"
    }
   ],
   "source": [
    "import nltk\n",
    "import re\n",
    "import pandas as pd\n",
    "import numpy as np\n",
    "from nltk.corpus import stopwords\n",
    "from nltk.stem import WordNetLemmatizer\n",
    "from nltk.stem.porter import PorterStemmer\n",
    "\n",
    "nltk.download('stopwords')\n",
    "nltk.download('wordnet')"
   ]
  },
  {
   "cell_type": "code",
   "execution_count": 44,
   "metadata": {},
   "outputs": [],
   "source": [
    "\n",
    "def data_cleaning(df): \n",
    "    # Remove the tagged labels and word tokenize the sentence\n",
    "    df[\"Essay\"] = df[\"Essay\"].apply(lambda x: re.sub(\"\\s\\[.*\\]|@(\\w+)\", \"\", x))\n",
    "    df[\"Essay\"] = df[\"Essay\"].apply(lambda x: re.sub(\"([^0-9A-Za-z \\t])|(\\w+:\\/\\/\\S+)|^rt|http.+?\", \" \", x))\n",
    "    df[\"Essay\"] = df[\"Essay\"].apply(lambda x: re.sub(\"\\s+\", \" \", x))\n",
    "\n",
    "    # To lowercase\n",
    "    df[\"Essay\"] = df[\"Essay\"].apply(lambda x: x.lower())\n",
    "    \n",
    "    # Remove stop words and Lemmatazing/Stemming\n",
    "    stops = set(stopwords.words(\"english\"))\n",
    "    stemmer = PorterStemmer()\n",
    "    # lemmatizer = WordNetLemmatizer()\n",
    "    def remove_word(essay):\n",
    "        return \" \".join([stemmer.stem(word) for word in essay.split() if word not in (stops)])\n",
    "        # return \" \".join([lemmatizer.lemmatize(word) for word in essay.split() if word not in (stops)])\n",
    "\n",
    "    df[\"Essay\"] = df[\"Essay\"].apply(lambda x: remove_word(x))"
   ]
  },
  {
   "cell_type": "code",
   "execution_count": 45,
   "metadata": {},
   "outputs": [],
   "source": [
    "df = pd.read_csv(\"original_kaggle_essay_set_1.csv\", encoding = 'unicode_escape')\n",
    "df = df.dropna()\n",
    "data_cleaning(df)\n",
    "df.to_csv(\"kaggle_essay_set_1.csv\")"
   ]
  },
  {
   "cell_type": "code",
   "execution_count": 46,
   "metadata": {},
   "outputs": [],
   "source": [
    "df = pd.read_csv(\"original_chatgpt_essay_set_1.csv\")\n",
    "df = df.dropna()\n",
    "data_cleaning(df)\n",
    "df.to_csv(\"chatgpt_essay_set_1.csv\")"
   ]
  }
 ],
 "metadata": {
  "kernelspec": {
   "display_name": "Python 3",
   "language": "python",
   "name": "python3"
  },
  "language_info": {
   "codemirror_mode": {
    "name": "ipython",
    "version": 3
   },
   "file_extension": ".py",
   "mimetype": "text/x-python",
   "name": "python",
   "nbconvert_exporter": "python",
   "pygments_lexer": "ipython3",
   "version": "3.11.2"
  },
  "orig_nbformat": 4
 },
 "nbformat": 4,
 "nbformat_minor": 2
}
