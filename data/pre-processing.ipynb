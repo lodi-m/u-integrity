{
 "cells": [
  {
   "cell_type": "code",
   "execution_count": 1,
   "metadata": {},
   "outputs": [
    {
     "name": "stderr",
     "output_type": "stream",
     "text": [
      "[nltk_data] Downloading package stopwords to\n",
      "[nltk_data]     C:\\Users\\katyc\\AppData\\Roaming\\nltk_data...\n",
      "[nltk_data]   Package stopwords is already up-to-date!\n",
      "[nltk_data] Downloading package wordnet to\n",
      "[nltk_data]     C:\\Users\\katyc\\AppData\\Roaming\\nltk_data...\n",
      "[nltk_data]   Package wordnet is already up-to-date!\n"
     ]
    },
    {
     "data": {
      "text/plain": [
       "True"
      ]
     },
     "execution_count": 1,
     "metadata": {},
     "output_type": "execute_result"
    }
   ],
   "source": [
    "import nltk\n",
    "import re\n",
    "import pandas as pd\n",
    "import numpy as np\n",
    "from nltk.corpus import stopwords\n",
    "from nltk.stem import WordNetLemmatizer\n",
    "from nltk.stem.porter import PorterStemmer\n",
    "\n",
    "nltk.download('stopwords')\n",
    "nltk.download('wordnet')"
   ]
  },
  {
   "cell_type": "code",
   "execution_count": 21,
   "metadata": {},
   "outputs": [],
   "source": [
    "def data_cleaning(df, col_name): \n",
    "    # Remove the tagged labels and word tokenize the sentence\n",
    "    df[col_name] = df[col_name].apply(lambda x: re.sub(\"\\s\\[.*\\]|@(\\w+)\", \"\", x))\n",
    "    df[col_name] = df[col_name].apply(lambda x: re.sub(\"([^0-9A-Za-z\\t\\.])|(\\w+:\\/\\/\\S+)|^rt|http.+?\", \" \", x))\n",
    "    df[col_name] = df[col_name].apply(lambda x: re.sub(\"\\s+\", \" \", x))\n",
    "\n",
    "    # To lowercase\n",
    "    df[col_name] = df[col_name].apply(lambda x: x.lower())\n",
    "    \n",
    "    # Remove stop words and Lemmatazing/Stemming\n",
    "    stops = set(stopwords.words(\"english\"))\n",
    "    stemmer = PorterStemmer()\n",
    "    # lemmatizer = WordNetLemmatizer()\n",
    "    def remove_word(essay):\n",
    "        return \" \".join([stemmer.stem(word) for word in essay.split() if word not in (stops)])\n",
    "        # return \" \".join([lemmatizer.lemmatize(word) for word in essay.split() if word not in (stops)])\n",
    "\n",
    "    df[col_name] = df[col_name].apply(lambda x: remove_word(x))"
   ]
  },
  {
   "cell_type": "code",
   "execution_count": 22,
   "metadata": {},
   "outputs": [],
   "source": [
    "# get kaggle dataset\n",
    "df = pd.read_excel(\"training_set_rel3.xlsx\")\n",
    "df = df.loc[:, :'domain1_score']\n",
    "df = df.drop(['rater3_domain1'], axis=1)\n",
    "df = df.rename(columns={\"essay_id\": \"Essay_id\", \"essay_set\": \"Essay_set_id\", \"essay\":\"Essay\"})\n",
    "df = df.query(\"Essay_set_id == 1 or Essay_set_id == 2 or Essay_set_id == 7 or Essay_set_id == 8\")"
   ]
  },
  {
   "cell_type": "code",
   "execution_count": 23,
   "metadata": {},
   "outputs": [],
   "source": [
    "#clean dataset\n",
    "data_cleaning(df, \"Essay\")\n",
    "df.to_csv(\"cleaned_kaggle_essay_set.csv\", index=False)"
   ]
  }
 ],
 "metadata": {
  "kernelspec": {
   "display_name": "Python 3",
   "language": "python",
   "name": "python3"
  },
  "language_info": {
   "codemirror_mode": {
    "name": "ipython",
    "version": 3
   },
   "file_extension": ".py",
   "mimetype": "text/x-python",
   "name": "python",
   "nbconvert_exporter": "python",
   "pygments_lexer": "ipython3",
   "version": "3.11.2"
  },
  "orig_nbformat": 4,
  "vscode": {
   "interpreter": {
    "hash": "be790b003bad8dc2320e5a3a77457d35fcf687e56800335d20875e2ea014e66e"
   }
  }
 },
 "nbformat": 4,
 "nbformat_minor": 2
}
