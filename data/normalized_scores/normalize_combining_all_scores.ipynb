{
 "cells": [
  {
   "attachments": {},
   "cell_type": "markdown",
   "metadata": {},
   "source": [
    "### Packages"
   ]
  },
  {
   "cell_type": "code",
   "execution_count": 122,
   "metadata": {},
   "outputs": [],
   "source": [
    "import pandas as pd\n",
    "import numpy as np\n",
    "import matplotlib.pyplot as plt\n",
    "import seaborn as sns"
   ]
  },
  {
   "attachments": {},
   "cell_type": "markdown",
   "metadata": {},
   "source": [
    "### Reading Files"
   ]
  },
  {
   "cell_type": "code",
   "execution_count": 108,
   "metadata": {},
   "outputs": [
    {
     "data": {
      "text/html": [
       "<div>\n",
       "<style scoped>\n",
       "    .dataframe tbody tr th:only-of-type {\n",
       "        vertical-align: middle;\n",
       "    }\n",
       "\n",
       "    .dataframe tbody tr th {\n",
       "        vertical-align: top;\n",
       "    }\n",
       "\n",
       "    .dataframe thead th {\n",
       "        text-align: right;\n",
       "    }\n",
       "</style>\n",
       "<table border=\"1\" class=\"dataframe\">\n",
       "  <thead>\n",
       "    <tr style=\"text-align: right;\">\n",
       "      <th></th>\n",
       "      <th>Essay_id</th>\n",
       "      <th>Essay_set_id</th>\n",
       "      <th>Essay</th>\n",
       "      <th>rater1_domain1</th>\n",
       "      <th>rater2_domain1</th>\n",
       "      <th>domain1_score</th>\n",
       "      <th>normalized_score</th>\n",
       "    </tr>\n",
       "  </thead>\n",
       "  <tbody>\n",
       "    <tr>\n",
       "      <th>0</th>\n",
       "      <td>1</td>\n",
       "      <td>1</td>\n",
       "      <td>dear local newspap think effect comput peopl g...</td>\n",
       "      <td>4.0</td>\n",
       "      <td>4.0</td>\n",
       "      <td>8.0</td>\n",
       "      <td>0.6</td>\n",
       "    </tr>\n",
       "    <tr>\n",
       "      <th>1</th>\n",
       "      <td>2</td>\n",
       "      <td>1</td>\n",
       "      <td>dear believ use comput benefit us mani way lik...</td>\n",
       "      <td>5.0</td>\n",
       "      <td>4.0</td>\n",
       "      <td>9.0</td>\n",
       "      <td>0.7</td>\n",
       "    </tr>\n",
       "    <tr>\n",
       "      <th>2</th>\n",
       "      <td>3</td>\n",
       "      <td>1</td>\n",
       "      <td>dear peopl use comput everyon agre benefit soc...</td>\n",
       "      <td>4.0</td>\n",
       "      <td>3.0</td>\n",
       "      <td>7.0</td>\n",
       "      <td>0.5</td>\n",
       "    </tr>\n",
       "    <tr>\n",
       "      <th>3</th>\n",
       "      <td>4</td>\n",
       "      <td>1</td>\n",
       "      <td>dear local newspap found mani expert say compu...</td>\n",
       "      <td>5.0</td>\n",
       "      <td>5.0</td>\n",
       "      <td>10.0</td>\n",
       "      <td>0.8</td>\n",
       "    </tr>\n",
       "    <tr>\n",
       "      <th>4</th>\n",
       "      <td>5</td>\n",
       "      <td>1</td>\n",
       "      <td>dear know comput posit effect people. comput c...</td>\n",
       "      <td>4.0</td>\n",
       "      <td>4.0</td>\n",
       "      <td>8.0</td>\n",
       "      <td>0.6</td>\n",
       "    </tr>\n",
       "  </tbody>\n",
       "</table>\n",
       "</div>"
      ],
      "text/plain": [
       "   Essay_id  Essay_set_id                                              Essay  \\\n",
       "0         1             1  dear local newspap think effect comput peopl g...   \n",
       "1         2             1  dear believ use comput benefit us mani way lik...   \n",
       "2         3             1  dear peopl use comput everyon agre benefit soc...   \n",
       "3         4             1  dear local newspap found mani expert say compu...   \n",
       "4         5             1  dear know comput posit effect people. comput c...   \n",
       "\n",
       "   rater1_domain1  rater2_domain1  domain1_score  normalized_score  \n",
       "0             4.0             4.0            8.0               0.6  \n",
       "1             5.0             4.0            9.0               0.7  \n",
       "2             4.0             3.0            7.0               0.5  \n",
       "3             5.0             5.0           10.0               0.8  \n",
       "4             4.0             4.0            8.0               0.6  "
      ]
     },
     "execution_count": 108,
     "metadata": {},
     "output_type": "execute_result"
    }
   ],
   "source": [
    "normalized_1_7_8 = pd.read_csv(\"normalized_prompt_1_7_8.csv\")\n",
    "normalized_2 = pd.read_csv(\"prompt2.csv\", index_col=\"essay_id\")\n",
    "normalized_1_7_8.head()"
   ]
  },
  {
   "cell_type": "code",
   "execution_count": 109,
   "metadata": {},
   "outputs": [
    {
     "data": {
      "text/html": [
       "<div>\n",
       "<style scoped>\n",
       "    .dataframe tbody tr th:only-of-type {\n",
       "        vertical-align: middle;\n",
       "    }\n",
       "\n",
       "    .dataframe tbody tr th {\n",
       "        vertical-align: top;\n",
       "    }\n",
       "\n",
       "    .dataframe thead th {\n",
       "        text-align: right;\n",
       "    }\n",
       "</style>\n",
       "<table border=\"1\" class=\"dataframe\">\n",
       "  <thead>\n",
       "    <tr style=\"text-align: right;\">\n",
       "      <th></th>\n",
       "      <th>essay_set</th>\n",
       "      <th>essay</th>\n",
       "      <th>rater1_domain1</th>\n",
       "      <th>rater2_domain1</th>\n",
       "      <th>domain1_score</th>\n",
       "      <th>rater1_domain2</th>\n",
       "      <th>rater2_domain2</th>\n",
       "      <th>domain2_score</th>\n",
       "      <th>normalized_score</th>\n",
       "    </tr>\n",
       "    <tr>\n",
       "      <th>essay_id</th>\n",
       "      <th></th>\n",
       "      <th></th>\n",
       "      <th></th>\n",
       "      <th></th>\n",
       "      <th></th>\n",
       "      <th></th>\n",
       "      <th></th>\n",
       "      <th></th>\n",
       "      <th></th>\n",
       "    </tr>\n",
       "  </thead>\n",
       "  <tbody>\n",
       "    <tr>\n",
       "      <th>2978</th>\n",
       "      <td>2</td>\n",
       "      <td>Certain materials being removed from libraries...</td>\n",
       "      <td>4</td>\n",
       "      <td>4</td>\n",
       "      <td>4</td>\n",
       "      <td>4</td>\n",
       "      <td>4</td>\n",
       "      <td>4</td>\n",
       "      <td>0.750</td>\n",
       "    </tr>\n",
       "    <tr>\n",
       "      <th>2979</th>\n",
       "      <td>2</td>\n",
       "      <td>Write a persuasive essay to a newspaper reflec...</td>\n",
       "      <td>1</td>\n",
       "      <td>2</td>\n",
       "      <td>1</td>\n",
       "      <td>1</td>\n",
       "      <td>2</td>\n",
       "      <td>1</td>\n",
       "      <td>0.000</td>\n",
       "    </tr>\n",
       "    <tr>\n",
       "      <th>2980</th>\n",
       "      <td>2</td>\n",
       "      <td>Do you think that libraries should remove cert...</td>\n",
       "      <td>2</td>\n",
       "      <td>3</td>\n",
       "      <td>2</td>\n",
       "      <td>3</td>\n",
       "      <td>3</td>\n",
       "      <td>3</td>\n",
       "      <td>0.375</td>\n",
       "    </tr>\n",
       "    <tr>\n",
       "      <th>2981</th>\n",
       "      <td>2</td>\n",
       "      <td>In @DATE1's world, there are many things found...</td>\n",
       "      <td>4</td>\n",
       "      <td>4</td>\n",
       "      <td>4</td>\n",
       "      <td>4</td>\n",
       "      <td>4</td>\n",
       "      <td>4</td>\n",
       "      <td>0.750</td>\n",
       "    </tr>\n",
       "    <tr>\n",
       "      <th>2982</th>\n",
       "      <td>2</td>\n",
       "      <td>In life you have the 'offensive things'. The l...</td>\n",
       "      <td>4</td>\n",
       "      <td>4</td>\n",
       "      <td>4</td>\n",
       "      <td>4</td>\n",
       "      <td>4</td>\n",
       "      <td>4</td>\n",
       "      <td>0.750</td>\n",
       "    </tr>\n",
       "  </tbody>\n",
       "</table>\n",
       "</div>"
      ],
      "text/plain": [
       "          essay_set                                              essay  \\\n",
       "essay_id                                                                 \n",
       "2978              2  Certain materials being removed from libraries...   \n",
       "2979              2  Write a persuasive essay to a newspaper reflec...   \n",
       "2980              2  Do you think that libraries should remove cert...   \n",
       "2981              2  In @DATE1's world, there are many things found...   \n",
       "2982              2  In life you have the 'offensive things'. The l...   \n",
       "\n",
       "          rater1_domain1  rater2_domain1  domain1_score  rater1_domain2  \\\n",
       "essay_id                                                                  \n",
       "2978                   4               4              4               4   \n",
       "2979                   1               2              1               1   \n",
       "2980                   2               3              2               3   \n",
       "2981                   4               4              4               4   \n",
       "2982                   4               4              4               4   \n",
       "\n",
       "          rater2_domain2  domain2_score  normalized_score  \n",
       "essay_id                                                   \n",
       "2978                   4              4             0.750  \n",
       "2979                   2              1             0.000  \n",
       "2980                   3              3             0.375  \n",
       "2981                   4              4             0.750  \n",
       "2982                   4              4             0.750  "
      ]
     },
     "execution_count": 109,
     "metadata": {},
     "output_type": "execute_result"
    }
   ],
   "source": [
    "normalized_2.head()"
   ]
  },
  {
   "attachments": {},
   "cell_type": "markdown",
   "metadata": {},
   "source": [
    "### Insert Prompt 2 Scores into Prompt 1 7 8 Scores File"
   ]
  },
  {
   "cell_type": "code",
   "execution_count": 117,
   "metadata": {},
   "outputs": [],
   "source": [
    "normalized_score = normalized_1_7_8[\"normalized_score\"].values\n",
    "for idx in normalized_1_7_8[normalized_1_7_8[\"Essay_id\"].isin(normalized_2.index)].index:\n",
    "    normalized_score[idx] = normalized_2.loc[idx + 1195, \"normalized_score\"]\n",
    "normalized_1_7_8[\"normalized_score\"] = normalized_score"
   ]
  },
  {
   "attachments": {},
   "cell_type": "markdown",
   "metadata": {},
   "source": [
    "### Visualizing Normalized Scores"
   ]
  },
  {
   "cell_type": "code",
   "execution_count": 123,
   "metadata": {},
   "outputs": [
    {
     "data": {
      "image/png": "[encoded data removed]",
      "text/plain": [
       "<Figure size 1000x480 with 4 Axes>"
      ]
     },
     "metadata": {},
     "output_type": "display_data"
    }
   ],
   "source": [
    "fig, ax = plt.subplots(1, 4, sharex=True)\n",
    "sns.histplot(normalized_1_7_8[normalized_1_7_8[\"Essay_set_id\"] == 1][\"normalized_score\"], bins=8, ax=ax[0])\n",
    "sns.histplot(normalized_1_7_8[normalized_1_7_8[\"Essay_set_id\"] == 2][\"normalized_score\"], bins=8, ax=ax[1])\n",
    "sns.histplot(normalized_1_7_8[normalized_1_7_8[\"Essay_set_id\"] == 7][\"normalized_score\"], bins=8, ax=ax[2])\n",
    "sns.histplot(normalized_1_7_8[normalized_1_7_8[\"Essay_set_id\"] == 8][\"normalized_score\"], bins=8, ax=ax[3])\n",
    "\n",
    "ax[0].set_title(\"Scores for Prompt 1\")\n",
    "ax[1].set_title(\"Scores for Prompt 2\")\n",
    "ax[2].set_title(\"Scores for Prompt 7\")\n",
    "ax[3].set_title(\"Scores for Prompt 8\")\n",
    "\n",
    "ax[0].set(xlabel=None, ylabel=None)\n",
    "ax[1].set(xlabel=None, ylabel=None)\n",
    "ax[2].set(xlabel=None, ylabel=None)\n",
    "ax[3].set(xlabel=None, ylabel=None) \n",
    "\n",
    "fig.supxlabel(\"Scores\")\n",
    "plt.subplots_adjust(wspace=0.5, hspace=0.5)\n",
    "fig.set_figwidth(10)\n",
    "plt.show()"
   ]
  },
  {
   "attachments": {},
   "cell_type": "markdown",
   "metadata": {},
   "source": [
    "### Exporting File"
   ]
  },
  {
   "cell_type": "code",
   "execution_count": 121,
   "metadata": {},
   "outputs": [],
   "source": [
    "normalized_1_7_8.to_csv(\"normalized_kaggle_essay_set.csv\", index=False)"
   ]
  }
 ],
 "metadata": {
  "kernelspec": {
   "display_name": "Python 3",
   "language": "python",
   "name": "python3"
  },
  "language_info": {
   "codemirror_mode": {
    "name": "ipython",
    "version": 3
   },
   "file_extension": ".py",
   "mimetype": "text/x-python",
   "name": "python",
   "nbconvert_exporter": "python",
   "pygments_lexer": "ipython3",
   "version": "3.11.0"
  },
  "orig_nbformat": 4
 },
 "nbformat": 4,
 "nbformat_minor": 2
}
